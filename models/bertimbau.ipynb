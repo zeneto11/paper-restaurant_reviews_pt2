{
  "cells": [
    {
      "cell_type": "markdown",
      "metadata": {
        "id": "-MJlbsjA8Jp7"
      },
      "source": [
        "Classificação de Texto Multilabel"
      ]
    },
    {
      "cell_type": "markdown",
      "metadata": {
        "id": "M2LNEc2Q3O1k"
      },
      "source": [
        "José Augusto de Almeida Neto"
      ]
    },
    {
      "cell_type": "markdown",
      "metadata": {
        "id": "GFZk0NqOMEpP"
      },
      "source": [
        "Modelo BERT pré treinado: [BERTimbau Base](https://huggingface.co/neuralmind/bert-base-portuguese-cased)\n",
        "\n",
        "Referências:\n",
        "\n",
        "https://www.youtube.com/watch?v=f-86-HcYYi8\n",
        "\n",
        "https://github.com/theartificialguy/NLP-with-Deep-Learning/blob/master/BERT/Multi%20Label%20Text%20Classification%20using%20BERT%20PyTorch/bert_multilabel_pytorch_standard.ipynb\n",
        "\n",
        "https://www.kaggle.com/code/pritishmishra/fine-tune-bert-for-text-classification?scriptVersionId=116951029\n",
        "\n",
        "https://medium.com/analytics-vidhya/multi-label-text-classification-using-transformers-bert-93460838e62b\n",
        "\n",
        "https://huggingface.co/docs/transformers/v4.39.3/en/model_doc/bert#transformers.BertForSequenceClassification"
      ]
    },
    {
      "cell_type": "markdown",
      "source": [
        "# Preparação antes da aplicação do modelo"
      ],
      "metadata": {
        "id": "1aaHZirmogx0"
      }
    },
    {
      "cell_type": "markdown",
      "metadata": {
        "id": "XzMDrm5t1ctu"
      },
      "source": [
        "## Importar bibliotecas"
      ]
    },
    {
      "cell_type": "code",
      "execution_count": null,
      "metadata": {
        "id": "rlGgbSd8s1fR"
      },
      "outputs": [],
      "source": [
        "import re\n",
        "import time\n",
        "import tensorflow as tf\n",
        "import torch\n",
        "import pandas as pd\n",
        "import nltk\n",
        "import numpy as np\n",
        "from nltk.stem import PorterStemmer\n",
        "from nltk.tokenize import word_tokenize\n",
        "from sklearn.ensemble import RandomForestClassifier\n",
        "from sklearn.feature_extraction.text import TfidfVectorizer\n",
        "from sklearn.feature_selection import SelectPercentile, chi2\n",
        "from sklearn.linear_model import LogisticRegression\n",
        "from sklearn.metrics import (accuracy_score, f1_score, precision_score, recall_score, classification_report)\n",
        "from sklearn.model_selection import train_test_split\n",
        "from sklearn.multiclass import OneVsRestClassifier\n",
        "from sklearn.svm import SVC\n",
        "from transformers import BertTokenizer, BertForSequenceClassification, AdamW\n",
        "from torch.utils.data import DataLoader, random_split\n",
        "from sklearn.preprocessing import MultiLabelBinarizer"
      ]
    },
    {
      "cell_type": "markdown",
      "metadata": {
        "id": "XbG5ug2TOchu"
      },
      "source": [
        "## Carregar datasets"
      ]
    },
    {
      "cell_type": "markdown",
      "source": [
        "\n",
        "Datasets com Stemming\n",
        "```\n",
        "file_urls = {\n",
        "    'df_fold1': 'https://drive.google.com/uc?export=download&id=1x-emOdLX_1zfc1W0DYw5ZE8fJGTYG90E',\n",
        "    'df_fold2': 'https://drive.google.com/uc?export=download&id=1wyTiXHpqVdNGgLeYLiXXIauxhkWIoI09',\n",
        "    'df_fold3': 'https://drive.google.com/uc?export=download&id=1HlTxTZwk89lUFahsBVnbP8KcWCXt0ajp',\n",
        "    'df_fold4': 'https://drive.google.com/uc?export=download&id=1ECUpYnYJXPdF02m4MPAScv8CB8ms2JlG',\n",
        "    'df_fold5': 'https://drive.google.com/uc?export=download&id=1d3icXhLKnzQnmU81clYOrc7q0UxTipAp'\n",
        "}\n",
        "```\n",
        "Datasets com Spacy\n",
        "```\n",
        "file_urls = {\n",
        "    'df_fold1': 'https://drive.google.com/uc?export=download&id=1hZMkMcOoo2UzMvDb7k9vfG49rG0pCdrU',\n",
        "    'df_fold2': 'https://drive.google.com/uc?export=download&id=11UL95ELTzg1ewknf8tvI_c8m2Ur4xm9h',\n",
        "    'df_fold3': 'https://drive.google.com/uc?export=download&id=1I0hP1UAUHz-avgZu1m6QWQVw4x-3ItlE',\n",
        "    'df_fold4': 'https://drive.google.com/uc?export=download&id=1jCbvDUruEav365DlVMMrslou2ws6ArF0',\n",
        "    'df_fold5': 'https://drive.google.com/uc?export=download&id=1EJsZYSsRoB8tpkd13p_Bkc_XBeKMb5Em'\n",
        "}\n",
        "```\n",
        "Datasets com Lemmatization\n",
        "```\n",
        "file_urls = {\n",
        "    'df_fold1': 'https://drive.google.com/uc?export=download&id=1ATF0g4uRFXwg546SB_zwlFE_rbivQdM1',\n",
        "    'df_fold2': 'https://drive.google.com/uc?export=download&id=1LTonHJQVHUq-utKl57LjZic58skyje0z',\n",
        "    'df_fold3': 'https://drive.google.com/uc?export=download&id=1dXxLLWK4gFLeW-mJJ4DQ4hlwEJdkErBO',\n",
        "    'df_fold4': 'https://drive.google.com/uc?export=download&id=11OR2kwSl3WinMcF3YqD3xCPj8ESo2Tba',\n",
        "    'df_fold5': 'https://drive.google.com/uc?export=download&id=1_Rg4zwANXPwDTtVUKkA26jwf2F1l6FbY'\n",
        "}\n",
        "```\n",
        "Datasets com Stopwords\n",
        "```\n",
        "file_urls = {\n",
        "    'df_fold1': 'https://drive.google.com/uc?export=download&id=11Uect4s84pU5pSei5tRazA3hwavJx-Nh',\n",
        "    'df_fold2': 'https://drive.google.com/uc?export=download&id=1sJ00Z-ynBsercqwgCNLfDNZKkvvB5G8R',\n",
        "    'df_fold3': 'https://drive.google.com/uc?export=download&id=1Imvb4D8IgnKnXCGBc2PMr6HOLzxjRPd6',\n",
        "    'df_fold4': 'https://drive.google.com/uc?export=download&id=1-ebIQ_DCCvTnJUyLONHYqMkLige_vdWs',\n",
        "    'df_fold5': 'https://drive.google.com/uc?export=download&id=10XHVDgB8r-n25xYZcRFPoDYTH61CyFOC'\n",
        "}\n",
        "```\n"
      ],
      "metadata": {
        "id": "tzZk2bGt0lhA"
      }
    },
    {
      "cell_type": "code",
      "execution_count": null,
      "metadata": {
        "id": "XpKxr0tE5-cO"
      },
      "outputs": [],
      "source": [
        "# URLs dos datasets\n",
        "file_urls = {\n",
        "    'df_fold1': 'https://drive.google.com/uc?export=download&id=1x-emOdLX_1zfc1W0DYw5ZE8fJGTYG90E',\n",
        "    'df_fold2': 'https://drive.google.com/uc?export=download&id=1wyTiXHpqVdNGgLeYLiXXIauxhkWIoI09',\n",
        "    'df_fold3': 'https://drive.google.com/uc?export=download&id=1HlTxTZwk89lUFahsBVnbP8KcWCXt0ajp',\n",
        "    'df_fold4': 'https://drive.google.com/uc?export=download&id=1ECUpYnYJXPdF02m4MPAScv8CB8ms2JlG',\n",
        "    'df_fold5': 'https://drive.google.com/uc?export=download&id=1d3icXhLKnzQnmU81clYOrc7q0UxTipAp'\n",
        "}\n",
        "\n",
        "def load_dataset(url):\n",
        "    return pd.read_csv(url)\n",
        "\n",
        "# Carregar datasets\n",
        "df_fold1 = load_dataset(file_urls['df_fold1'])\n",
        "df_fold2 = load_dataset(file_urls['df_fold2'])\n",
        "df_fold3 = load_dataset(file_urls['df_fold3'])\n",
        "df_fold4 = load_dataset(file_urls['df_fold4'])\n",
        "df_fold5 = load_dataset(file_urls['df_fold5'])"
      ]
    },
    {
      "cell_type": "code",
      "execution_count": null,
      "metadata": {
        "id": "VxUqA8raPtzL"
      },
      "outputs": [],
      "source": [
        "labels = ['ambiente', 'bebida', 'comida', 'geral', 'localização', 'outros', 'preço', 'serviço']"
      ]
    },
    {
      "cell_type": "code",
      "source": [
        "def remove_empty_sentenca_rows(df):\n",
        "    empty_sentenca_rows = df['sentenca'].isnull() | (df['sentenca'] == '')\n",
        "    df = df[~empty_sentenca_rows]\n",
        "    df.reset_index(drop=True, inplace=True)\n",
        "    return df\n",
        "\n",
        "# Removendo linhas vazias\n",
        "df_fold1 = remove_empty_sentenca_rows(df_fold1)\n",
        "df_fold2 = remove_empty_sentenca_rows(df_fold2)\n",
        "df_fold3 = remove_empty_sentenca_rows(df_fold3)\n",
        "df_fold4 = remove_empty_sentenca_rows(df_fold4)\n",
        "df_fold5 = remove_empty_sentenca_rows(df_fold5)"
      ],
      "metadata": {
        "id": "zXrsRqFQyrDA"
      },
      "execution_count": null,
      "outputs": []
    },
    {
      "cell_type": "markdown",
      "source": [
        "## Histórico de resultados - Fold 1 (Hiperparâmetros)"
      ],
      "metadata": {
        "id": "Z3pu_TRFG3LJ"
      }
    },
    {
      "cell_type": "markdown",
      "source": [
        "### Stemming"
      ],
      "metadata": {
        "id": "1NBFkvuNv-5h"
      }
    },
    {
      "cell_type": "markdown",
      "source": [
        "Teste 4\n",
        "```\n",
        "# Hiperparâmetros\n",
        "max_len = 128\n",
        "train_batch_size = 8\n",
        "valid_batch_size = 8\n",
        "epochs = 5\n",
        "learning_rate = 1e-05\n",
        "num_labels = len(labels)\n",
        "threshold = 0.3\n",
        "```\n",
        "* Tempo de execução: 4h18m34s\n",
        "* Epoch 5:\n",
        "  - Macro F1-score: 0.9307\n",
        "  - Micro F1-score: 0.9366\n",
        "\n"
      ],
      "metadata": {
        "id": "nuqeij3aJbGB"
      }
    },
    {
      "cell_type": "markdown",
      "source": [
        "Teste 8\n",
        "```\n",
        "# Hiperparâmetros\n",
        "max_len = 128\n",
        "train_batch_size = 16\n",
        "valid_batch_size = 8\n",
        "epochs = 5 (3)\n",
        "learning_rate = 2e-05\n",
        "num_labels = len(labels)\n",
        "threshold = 0.35\n",
        "```\n",
        "* Tempo de execução: 5h28m46s\n",
        "* Epoch 3:\n",
        "  - Macro F1-score: 0.9308\n",
        "  - Micro F1-score: 0.9333"
      ],
      "metadata": {
        "id": "ecsO7mSziaDr"
      }
    },
    {
      "cell_type": "markdown",
      "source": [
        "### Spacy + pontuação + strip"
      ],
      "metadata": {
        "id": "qSPclZmH0KzO"
      }
    },
    {
      "cell_type": "markdown",
      "source": [
        "Teste 2\n",
        "```\n",
        "# Hiperparâmetros\n",
        "max_len = 128\n",
        "train_batch_size = 16\n",
        "valid_batch_size = 8\n",
        "epochs = 5\n",
        "learning_rate = 2e-05\n",
        "num_labels = len(labels)\n",
        "threshold = 0.35\n",
        "```\n",
        "* Tempo de execução: 4h16m4s\n",
        "* Epoch 4:\n",
        "  - Macro F1-score: 0.8906\n",
        "  - Micro F1-score: 0.9006"
      ],
      "metadata": {
        "id": "OgAjIDyj0Osm"
      }
    },
    {
      "cell_type": "markdown",
      "source": [
        "Teste 6\n",
        "```\n",
        "# Hiperparâmetros\n",
        "max_len = 128\n",
        "train_batch_size = 16\n",
        "valid_batch_size = 8\n",
        "epochs = 7\n",
        "learning_rate = 2e-05\n",
        "num_labels = len(labels)\n",
        "threshold = 0.35\n",
        "```\n",
        "* Tempo de execução: 6h39m35s\n",
        "* Epoch 4:\n",
        "  - Macro F1-score: 0.8943\n",
        "  - Micro F1-score: 0.9050"
      ],
      "metadata": {
        "id": "al0XgmaSXMT0"
      }
    },
    {
      "cell_type": "markdown",
      "source": [
        "### Lemmatization + lower + pontuação + strip"
      ],
      "metadata": {
        "id": "BrR8KbyyYUka"
      }
    },
    {
      "cell_type": "markdown",
      "source": [
        "Teste 2\n",
        "```\n",
        "# Hiperparâmetros\n",
        "max_len = 128\n",
        "train_batch_size = 8\n",
        "valid_batch_size = 8\n",
        "epochs = 5\n",
        "learning_rate = 1e-05\n",
        "num_labels = len(labels)\n",
        "threshold = 0.3\n",
        "```\n",
        "* Tempo de execução: 6h33m36s\n",
        "* Epoch 5:\n",
        "  - Macro F1-score: 0.9337\n",
        "  - Micro F1-score: 0.9336"
      ],
      "metadata": {
        "id": "wOx-Eqaha3Il"
      }
    },
    {
      "cell_type": "markdown",
      "source": [
        "Teste 5\n",
        "```\n",
        "# Hiperparâmetros\n",
        "max_len = 128\n",
        "train_batch_size = 8\n",
        "valid_batch_size = 8\n",
        "epochs = 6\n",
        "learning_rate = 2e-05\n",
        "num_labels = len(labels)\n",
        "threshold = 0.25\n",
        "```\n",
        "* Tempo de execução: 4h59m0s\n",
        "* Epoch 6:\n",
        "  - Macro F1-score: 0.9302\n",
        "  - Micro F1-score: 0.9311"
      ],
      "metadata": {
        "id": "HiPksj9k3UhQ"
      }
    },
    {
      "cell_type": "markdown",
      "source": [
        "Teste 9\n",
        "```\n",
        "# Hiperparâmetros\n",
        "max_len = 128\n",
        "train_batch_size = 12\n",
        "valid_batch_size = 8\n",
        "epochs = 6\n",
        "learning_rate = 2.5e-05\n",
        "num_labels = len(labels)\n",
        "threshold = 0.3\n",
        "```\n",
        "* Tempo de execução: 2h27m38s\n",
        "* Epoch 4:\n",
        "  - Macro F1-score: 0.9283\n",
        "  - Micro F1-score: 0.9343"
      ],
      "metadata": {
        "id": "FQ94L6W05i_e"
      }
    },
    {
      "cell_type": "markdown",
      "source": [
        "### Stopwords + pontuação + strip"
      ],
      "metadata": {
        "id": "sgEWkw82zPfy"
      }
    },
    {
      "cell_type": "markdown",
      "source": [
        "Teste 2\n",
        "```\n",
        "# Hiperparâmetros\n",
        "max_len = 128\n",
        "train_batch_size = 16\n",
        "valid_batch_size = 8\n",
        "epochs = 5\n",
        "learning_rate = 2e-05\n",
        "num_labels = len(labels)\n",
        "threshold = 0.35\n",
        "```\n",
        "* Tempo de execução: 6h13m37s\n",
        "* Epoch 4:\n",
        "  - Macro F1-score: 0.9223\n",
        "  - Micro F1-score: 0.9252"
      ],
      "metadata": {
        "id": "NcVy-oeXbV9L"
      }
    },
    {
      "cell_type": "markdown",
      "source": [
        "Teste 3\n",
        "```\n",
        "# Hiperparâmetros\n",
        "max_len = 128\n",
        "train_batch_size = 8\n",
        "valid_batch_size = 8\n",
        "epochs = 5\n",
        "learning_rate = 3e-05\n",
        "num_labels = len(labels)\n",
        "threshold = 0.3\n",
        "```\n",
        "* Tempo de execução: 6h28m12s\n",
        "* Epoch 3:\n",
        "  - Macro F1-score: 0.9250\n",
        "  - Micro F1-score: 0.9251"
      ],
      "metadata": {
        "id": "3fmeDt17bW2z"
      }
    },
    {
      "cell_type": "markdown",
      "metadata": {
        "id": "yV8jSeI8pYtG"
      },
      "source": [
        "## Listas, hiperparâmetros e tokenização"
      ]
    },
    {
      "cell_type": "code",
      "execution_count": null,
      "metadata": {
        "id": "m0YzaHOHOchv"
      },
      "outputs": [],
      "source": [
        "# Gerar listas de métricas\n",
        "f1_score_list_macro = []\n",
        "precision_list_macro = []\n",
        "recall_list_macro = []\n",
        "f1_score_list_micro = []\n",
        "precision_list_micro = []\n",
        "recall_list_micro = []"
      ]
    },
    {
      "cell_type": "code",
      "execution_count": null,
      "metadata": {
        "id": "YTbvDxLQRwq0"
      },
      "outputs": [],
      "source": [
        "# Hiperparâmetros\n",
        "max_len = 128\n",
        "train_batch_size = 16\n",
        "valid_batch_size = 8\n",
        "epochs = 3\n",
        "learning_rate = 2e-05\n",
        "num_labels = len(labels)\n",
        "threshold = 0.35"
      ]
    },
    {
      "cell_type": "code",
      "execution_count": null,
      "metadata": {
        "id": "Dawyzfa_NfDR",
        "colab": {
          "base_uri": "https://localhost:8080/",
          "referenced_widgets": [
            "d0b5ae74570f4ee79cc140eb0b88aa87",
            "8405da6e5f094b61818c111fba008988",
            "71e578d0b6b04573b01240b3d2b26705",
            "9510545889b14a08a91ba318ccfa0a2a",
            "cc26c9a0a2844b21958330b64699b0bd",
            "a339fa64334345b79434c306c58e67bf",
            "a9f1928f5d9c4059890083c0389b45f8",
            "9a7eb38578914b2085407504b2ce8aac",
            "0107a9ab72964d67b9df7925fa38bd70",
            "352e29e370234e2da1432dfdea06f96c",
            "0bb48cc605144dd1a445325024b6a359",
            "432328f739bf44a3932f0ebf248865d2",
            "f7b30104b021427d822b8e75ead6b029",
            "76c1b2e348274187af2b734370a464ba",
            "0b09243b32084207afe1136194bed38b",
            "9630e1505f82447fada4fa74fb8897f7",
            "8cbcbc2796874eb9aa83373b6ed941c3",
            "27cc7fc56d2d4e758b096f89697d3538",
            "e2d4a3a9d11748698ef73ccbac721205",
            "55d4237fce3547fc88b3157756e039f4",
            "ce1ac70a1a2e4e7c96ec9af9fb31d907",
            "098c615c0ccd4b3290edf917909c0887",
            "271a3cd702da4541bfa4cb4f4dd9a379",
            "cdd6ff9bf50449efad6d872558c8816e",
            "7b2cda4323ed457a86318af655b4e610",
            "d4a156da91d44469a675f6bcc8ca6be3",
            "30425cdaf40b427b959e308933277670",
            "1eb2f52a4fa54ef6916910e5455bdd14",
            "ab3bfd810b7e4dd2957853308dcd6f56",
            "cc656f7ea3164a31b1d8a926dd238d83",
            "df6c8fea3d33464d92fd4df1c7197ded",
            "bfa3d86b0d12475eb4009bffbe3608ba",
            "01d44be212c3463aa92d32dfff7b07bc",
            "6b6c5b02a97045b89cacee8f733ae2c5",
            "6ad26799c6944642bb3c61b6a7f4f0cf",
            "91acb02ccfb145dabe4edfb5bf8838a7",
            "30bbe2157e31468e8e56063139514c68",
            "97a00b9e07ef4b22aab5143fc6042831",
            "e0f1653adbde44a79de35ab172950c5b",
            "67d24e81257a45b9b39497a0977751fa",
            "47d4902fb0cb48419005c3b685a01133",
            "64c1fb9fe62e417393d1e5cc217b3327",
            "b613375389174eb0b5ec2ce58af66625",
            "3b21f85244a74cdfabb06f8bccd248f4",
            "96ae70e42b9e4b80b7b2ebe9fcd7ddfa",
            "a615081f7292443ba974cecb16acb7c7",
            "c2a171170fd249d09f62044e1dd9745a",
            "9555eb4d32284a0e8fb61e064f50a0c9",
            "b1013b6483944a87a51553228468386e",
            "04290aa103dd4dcfa648ae4542280312",
            "6cdb1acc80fa4235b46917163c785424",
            "e7d731c252b548269d05415215b53e8b",
            "f49534d9fc3045a8b78a7409cbb541d1",
            "82e0de1fa8fc4e55ad913c7c496e3d93",
            "cbc1153832e045738c6a51b3e0d34e34"
          ]
        },
        "outputId": "5f75dca5-3d51-4262-a483-3075c5e04634"
      },
      "outputs": [
        {
          "output_type": "stream",
          "name": "stderr",
          "text": [
            "/usr/local/lib/python3.10/dist-packages/huggingface_hub/utils/_token.py:88: UserWarning: \n",
            "The secret `HF_TOKEN` does not exist in your Colab secrets.\n",
            "To authenticate with the Hugging Face Hub, create a token in your settings tab (https://huggingface.co/settings/tokens), set it as secret in your Google Colab and restart your session.\n",
            "You will be able to reuse this secret in all of your notebooks.\n",
            "Please note that authentication is recommended but still optional to access public models or datasets.\n",
            "  warnings.warn(\n"
          ]
        },
        {
          "output_type": "display_data",
          "data": {
            "text/plain": [
              "tokenizer_config.json:   0%|          | 0.00/43.0 [00:00<?, ?B/s]"
            ],
            "application/vnd.jupyter.widget-view+json": {
              "version_major": 2,
              "version_minor": 0,
              "model_id": "d0b5ae74570f4ee79cc140eb0b88aa87"
            }
          },
          "metadata": {}
        },
        {
          "output_type": "display_data",
          "data": {
            "text/plain": [
              "vocab.txt:   0%|          | 0.00/210k [00:00<?, ?B/s]"
            ],
            "application/vnd.jupyter.widget-view+json": {
              "version_major": 2,
              "version_minor": 0,
              "model_id": "432328f739bf44a3932f0ebf248865d2"
            }
          },
          "metadata": {}
        },
        {
          "output_type": "display_data",
          "data": {
            "text/plain": [
              "added_tokens.json:   0%|          | 0.00/2.00 [00:00<?, ?B/s]"
            ],
            "application/vnd.jupyter.widget-view+json": {
              "version_major": 2,
              "version_minor": 0,
              "model_id": "271a3cd702da4541bfa4cb4f4dd9a379"
            }
          },
          "metadata": {}
        },
        {
          "output_type": "display_data",
          "data": {
            "text/plain": [
              "special_tokens_map.json:   0%|          | 0.00/112 [00:00<?, ?B/s]"
            ],
            "application/vnd.jupyter.widget-view+json": {
              "version_major": 2,
              "version_minor": 0,
              "model_id": "6b6c5b02a97045b89cacee8f733ae2c5"
            }
          },
          "metadata": {}
        },
        {
          "output_type": "display_data",
          "data": {
            "text/plain": [
              "config.json:   0%|          | 0.00/647 [00:00<?, ?B/s]"
            ],
            "application/vnd.jupyter.widget-view+json": {
              "version_major": 2,
              "version_minor": 0,
              "model_id": "96ae70e42b9e4b80b7b2ebe9fcd7ddfa"
            }
          },
          "metadata": {}
        }
      ],
      "source": [
        "# Carregar o tokenizador BERT\n",
        "tokenizer = BertTokenizer.from_pretrained('neuralmind/bert-base-portuguese-cased')"
      ]
    },
    {
      "cell_type": "code",
      "execution_count": null,
      "metadata": {
        "id": "X3rRom99REyz"
      },
      "outputs": [],
      "source": [
        "class TokenizeDataset(torch.utils.data.Dataset):\n",
        "\n",
        "    def __init__(self, df, tokenizer, max_len):\n",
        "        self.tokenizer = tokenizer\n",
        "        self.df = df\n",
        "        self.title = df['sentenca']\n",
        "        self.targets = self.df[labels].values\n",
        "        self.max_len = max_len\n",
        "\n",
        "    def __len__(self):\n",
        "        return len(self.title)\n",
        "\n",
        "    def __getitem__(self, index):\n",
        "        title = str(self.title[index])\n",
        "        title = \" \".join(title.split())\n",
        "\n",
        "        inputs = self.tokenizer.encode_plus(\n",
        "            title,\n",
        "            None,\n",
        "            add_special_tokens=True,\n",
        "            max_length=self.max_len,\n",
        "            padding='max_length',\n",
        "            return_token_type_ids=True,\n",
        "            truncation=True,\n",
        "            return_attention_mask=True,\n",
        "            return_tensors='pt'\n",
        "        )\n",
        "\n",
        "        return {\n",
        "            'input_ids': inputs['input_ids'].flatten(),\n",
        "            'attention_mask': inputs['attention_mask'].flatten(),\n",
        "            'token_type_ids': inputs[\"token_type_ids\"].flatten(),\n",
        "            'targets': torch.FloatTensor(self.targets[index])\n",
        "        }"
      ]
    },
    {
      "cell_type": "markdown",
      "metadata": {
        "id": "1f3lbrXdBGzi"
      },
      "source": [
        "# BERT"
      ]
    },
    {
      "cell_type": "markdown",
      "metadata": {
        "id": "HiUi5hDyOchv"
      },
      "source": [
        "## 1° Fold"
      ]
    },
    {
      "cell_type": "code",
      "execution_count": null,
      "metadata": {
        "id": "8pV783MAOchv"
      },
      "outputs": [],
      "source": [
        "# Dividir o dataset\n",
        "test_data = df_fold1\n",
        "train_data = pd.concat([df_fold2, df_fold3, df_fold4, df_fold5], ignore_index=True)"
      ]
    },
    {
      "cell_type": "code",
      "execution_count": null,
      "metadata": {
        "id": "B8VpxukpOchv"
      },
      "outputs": [],
      "source": [
        "# Tokenizar o dataset\n",
        "tokenized_train_data = TokenizeDataset(train_data, tokenizer, max_len)\n",
        "tokenized_test_data = TokenizeDataset(test_data, tokenizer, max_len)"
      ]
    },
    {
      "cell_type": "code",
      "execution_count": null,
      "metadata": {
        "id": "1vXqM8OgmhSp"
      },
      "outputs": [],
      "source": [
        "# Criar DataLoader para carregar os dados em lotes durante o treinamento\n",
        "train_loader = DataLoader(tokenized_train_data, batch_size=train_batch_size, shuffle=True)\n",
        "val_loader = DataLoader(tokenized_test_data, batch_size=valid_batch_size, shuffle=False)"
      ]
    },
    {
      "cell_type": "code",
      "execution_count": null,
      "metadata": {
        "colab": {
          "base_uri": "https://localhost:8080/"
        },
        "id": "9X2AtgVWnQAN",
        "outputId": "94c8aaac-a0e2-45e7-9a95-f81adf70d714"
      },
      "outputs": [
        {
          "output_type": "stream",
          "name": "stderr",
          "text": [
            "Some weights of BertForSequenceClassification were not initialized from the model checkpoint at neuralmind/bert-base-portuguese-cased and are newly initialized: ['classifier.bias', 'classifier.weight']\n",
            "You should probably TRAIN this model on a down-stream task to be able to use it for predictions and inference.\n"
          ]
        }
      ],
      "source": [
        "# Definir modelo, optimizer, e loss function\n",
        "model = BertForSequenceClassification.from_pretrained('neuralmind/bert-base-portuguese-cased', num_labels=num_labels, problem_type=\"multi_label_classification\")\n",
        "optimizer = torch.optim.Adam(model.parameters(), lr=learning_rate)\n",
        "criterion = torch.nn.BCEWithLogitsLoss()\n",
        "sigmoid = torch.nn.Sigmoid()"
      ]
    },
    {
      "cell_type": "code",
      "execution_count": null,
      "metadata": {
        "id": "KKEPUks6Ochv",
        "colab": {
          "base_uri": "https://localhost:8080/"
        },
        "outputId": "e0e82ad1-2a99-47f3-e464-4571c071a7e3"
      },
      "outputs": [
        {
          "output_type": "stream",
          "name": "stderr",
          "text": [
            "/usr/local/lib/python3.10/dist-packages/sklearn/metrics/_classification.py:1344: UndefinedMetricWarning: Precision is ill-defined and being set to 0.0 in labels with no predicted samples. Use `zero_division` parameter to control this behavior.\n",
            "  _warn_prf(average, modifier, msg_start, len(result))\n"
          ]
        },
        {
          "output_type": "stream",
          "name": "stdout",
          "text": [
            "Epoch 1:\n",
            "F1-Score (macro): 0.6518, Precision (macro): 0.6561, Recall (macro): 0.7131\n",
            "F1-Score (micro): 0.8255, Precision (micro): 0.7573, Recall (micro): 0.9072\n"
          ]
        },
        {
          "output_type": "stream",
          "name": "stderr",
          "text": [
            "/usr/local/lib/python3.10/dist-packages/sklearn/metrics/_classification.py:1344: UndefinedMetricWarning: Precision is ill-defined and being set to 0.0 in labels with no predicted samples. Use `zero_division` parameter to control this behavior.\n",
            "  _warn_prf(average, modifier, msg_start, len(result))\n"
          ]
        },
        {
          "output_type": "stream",
          "name": "stdout",
          "text": [
            "Epoch 2:\n",
            "F1-Score (macro): 0.7978, Precision (macro): 0.7615, Recall (macro): 0.8410\n",
            "F1-Score (micro): 0.9099, Precision (micro): 0.8689, Recall (micro): 0.9549\n",
            "Epoch 3:\n",
            "F1-Score (macro): 0.8773, Precision (macro): 0.9061, Recall (macro): 0.8888\n",
            "F1-Score (micro): 0.9257, Precision (micro): 0.9001, Recall (micro): 0.9529\n",
            "Epoch 4:\n",
            "F1-Score (macro): 0.8920, Precision (macro): 0.8855, Recall (macro): 0.9132\n",
            "F1-Score (micro): 0.9204, Precision (micro): 0.8883, Recall (micro): 0.9549\n",
            "Epoch 5:\n",
            "F1-Score (macro): 0.8849, Precision (macro): 0.8773, Recall (macro): 0.9094\n",
            "F1-Score (micro): 0.9231, Precision (micro): 0.8898, Recall (micro): 0.9590\n",
            "\n",
            "Tempo de execução: 05:46:22.67\n"
          ]
        }
      ],
      "source": [
        "start_time = time.time()\n",
        "\n",
        "for epoch in range(epochs):\n",
        "    # Loop de Treinamento\n",
        "    model.train() # modo de treinamento\n",
        "    for batch in train_loader:\n",
        "        inputs_ids = batch['input_ids']\n",
        "        attention_mask = batch['attention_mask']\n",
        "        token_type_ids = batch['token_type_ids']\n",
        "        targets = batch['targets']\n",
        "\n",
        "        # Passagem Direta - os dados de entrada são passados para o modelo\n",
        "        outputs = model(input_ids=inputs_ids, attention_mask=attention_mask, token_type_ids=token_type_ids)\n",
        "\n",
        "        # A função sigmóide é aplicada aos logits para converter os valores em probabilidades\n",
        "        logits = outputs.logits\n",
        "        predicted_probs = sigmoid(logits)\n",
        "\n",
        "        # A perda é calculada comparando os logits com os rótulos verdadeiros (targets)\n",
        "        loss = criterion(logits, targets) # função de perda criterion\n",
        "\n",
        "        # Retropropagação e Otimização\n",
        "        optimizer.zero_grad()\n",
        "        loss.backward() #  gradiente é calculado\n",
        "        optimizer.step() # parâmetros do modelo são otimizados\n",
        "\n",
        "    # Loop de Validação\n",
        "    model.eval() # modo de avaliação\n",
        "    all_targets = []\n",
        "    all_predictions = []\n",
        "    with torch.no_grad():\n",
        "        for batch in val_loader:\n",
        "            inputs_ids = batch['input_ids']\n",
        "            attention_mask = batch['attention_mask']\n",
        "            token_type_ids = batch['token_type_ids']\n",
        "            targets = batch['targets']\n",
        "\n",
        "            # Passagem Direta (inferência) - da mesma foram que o treinamento\n",
        "            outputs = model(input_ids=inputs_ids, attention_mask=attention_mask, token_type_ids=token_type_ids)\n",
        "\n",
        "            # A função sigmóide é aplicada aos logits para converter os valores em probabilidades\n",
        "            logits = outputs.logits\n",
        "            predicted_probs = sigmoid(logits)\n",
        "\n",
        "            # Aplicação do threshold\n",
        "            predicted_labels = (predicted_probs > threshold).float()\n",
        "\n",
        "            # Conversão dos rótulos verdadeiros e previstos para numpy arrays\n",
        "            targets_np = targets.cpu().numpy()\n",
        "            predicted_labels_np = predicted_labels.cpu().numpy()\n",
        "\n",
        "            # Coleção dos targets e predictions para calculas as métricas\n",
        "            all_targets.extend(targets_np)\n",
        "            all_predictions.extend(predicted_labels_np)\n",
        "\n",
        "    # Calcular as métricas\n",
        "    f1_macro = f1_score(all_targets, all_predictions, average='macro')\n",
        "    precision_macro = precision_score(all_targets, all_predictions, average='macro')\n",
        "    recall_macro = recall_score(all_targets, all_predictions, average='macro')\n",
        "    f1_micro = f1_score(all_targets, all_predictions, average='micro')\n",
        "    precision_micro = precision_score(all_targets, all_predictions, average='micro')\n",
        "    recall_micro = recall_score(all_targets, all_predictions, average='micro')\n",
        "\n",
        "    # Atualizar a lista das métricas apenas da última epoch\n",
        "    if epoch == epochs - 1:\n",
        "        f1_score_list_macro.append(f1_macro)\n",
        "        precision_list_macro.append(precision_macro)\n",
        "        recall_list_macro.append(recall_macro)\n",
        "        f1_score_list_micro.append(f1_micro)\n",
        "        precision_list_micro.append(precision_micro)\n",
        "        recall_list_micro.append(recall_micro)\n",
        "\n",
        "    # Imprimir as métricas ao final de cada época\n",
        "    print(f\"Epoch {epoch + 1}:\")\n",
        "    print(f\"F1-Score (macro): {f1_macro:.4f}, Precision (macro): {precision_macro:.4f}, Recall (macro): {recall_macro:.4f}\")\n",
        "    print(f\"F1-Score (micro): {f1_micro:.4f}, Precision (micro): {precision_micro:.4f}, Recall (micro): {recall_micro:.4f}\")\n",
        "\n",
        "# Calcular o tempo total de execução\n",
        "end_time = time.time()\n",
        "elapsed_time = end_time - start_time\n",
        "hours, rem = divmod(elapsed_time, 3600)\n",
        "minutes, seconds = divmod(rem, 60)\n",
        "\n",
        "print(f\"\\nTempo de execução: {int(hours):02}:{int(minutes):02}:{seconds:.2f}\")"
      ]
    },
    {
      "cell_type": "markdown",
      "metadata": {
        "id": "obM0l_ZFr1v9"
      },
      "source": [
        "## 2° Fold"
      ]
    },
    {
      "cell_type": "code",
      "execution_count": null,
      "metadata": {
        "id": "3FI2GR5Yr1wG"
      },
      "outputs": [],
      "source": [
        "# Dividir o dataset\n",
        "test_data = df_fold2\n",
        "train_data = pd.concat([df_fold1, df_fold3, df_fold4, df_fold5], ignore_index=True)"
      ]
    },
    {
      "cell_type": "code",
      "execution_count": null,
      "metadata": {
        "id": "W-6xRRYir1wG"
      },
      "outputs": [],
      "source": [
        "# Tokenizar o dataset\n",
        "tokenized_train_data = TokenizeDataset(train_data, tokenizer, max_len)\n",
        "tokenized_test_data = TokenizeDataset(test_data, tokenizer, max_len)"
      ]
    },
    {
      "cell_type": "code",
      "execution_count": null,
      "metadata": {
        "id": "CIg5Ty20r1wG"
      },
      "outputs": [],
      "source": [
        "# Criar DataLoader para carregar os dados em lotes durante o treinamento\n",
        "train_loader = DataLoader(tokenized_train_data, batch_size=train_batch_size, shuffle=True)\n",
        "val_loader = DataLoader(tokenized_test_data, batch_size=valid_batch_size, shuffle=False)"
      ]
    },
    {
      "cell_type": "code",
      "execution_count": null,
      "metadata": {
        "colab": {
          "base_uri": "https://localhost:8080/"
        },
        "outputId": "96a8acf7-d470-4671-e95c-3a1f36c14f93",
        "id": "yEGHf-Bqr1wG"
      },
      "outputs": [
        {
          "output_type": "stream",
          "name": "stderr",
          "text": [
            "Some weights of BertForSequenceClassification were not initialized from the model checkpoint at neuralmind/bert-base-portuguese-cased and are newly initialized: ['classifier.bias', 'classifier.weight']\n",
            "You should probably TRAIN this model on a down-stream task to be able to use it for predictions and inference.\n"
          ]
        }
      ],
      "source": [
        "# Definir modelo, optimizer, e loss function\n",
        "model = BertForSequenceClassification.from_pretrained('neuralmind/bert-base-portuguese-cased', num_labels=num_labels, problem_type=\"multi_label_classification\")\n",
        "optimizer = torch.optim.Adam(model.parameters(), lr=learning_rate)\n",
        "criterion = torch.nn.BCEWithLogitsLoss()\n",
        "sigmoid = torch.nn.Sigmoid()"
      ]
    },
    {
      "cell_type": "code",
      "execution_count": null,
      "metadata": {
        "id": "7-3L1lPLr1wG"
      },
      "outputs": [],
      "source": [
        "start_time = time.time()\n",
        "\n",
        "for epoch in range(epochs):\n",
        "    # Loop de Treinamento\n",
        "    model.train() # modo de treinamento\n",
        "    for batch in train_loader:\n",
        "        inputs_ids = batch['input_ids']\n",
        "        attention_mask = batch['attention_mask']\n",
        "        token_type_ids = batch['token_type_ids']\n",
        "        targets = batch['targets']\n",
        "\n",
        "        # Passagem Direta - os dados de entrada são passados para o modelo\n",
        "        outputs = model(input_ids=inputs_ids, attention_mask=attention_mask, token_type_ids=token_type_ids)\n",
        "\n",
        "        # A função sigmóide é aplicada aos logits para converter os valores em probabilidades\n",
        "        logits = outputs.logits\n",
        "        predicted_probs = sigmoid(logits)\n",
        "\n",
        "        # A perda é calculada comparando os logits com os rótulos verdadeiros (targets)\n",
        "        loss = criterion(logits, targets) # função de perda criterion\n",
        "\n",
        "        # Retropropagação e Otimização\n",
        "        optimizer.zero_grad()\n",
        "        loss.backward() #  gradiente é calculado\n",
        "        optimizer.step() # parâmetros do modelo são otimizados\n",
        "\n",
        "    # Loop de Validação\n",
        "    model.eval() # modo de avaliação\n",
        "    all_targets = []\n",
        "    all_predictions = []\n",
        "    with torch.no_grad():\n",
        "        for batch in val_loader:\n",
        "            inputs_ids = batch['input_ids']\n",
        "            attention_mask = batch['attention_mask']\n",
        "            token_type_ids = batch['token_type_ids']\n",
        "            targets = batch['targets']\n",
        "\n",
        "            # Passagem Direta (inferência) - da mesma foram que o treinamento\n",
        "            outputs = model(input_ids=inputs_ids, attention_mask=attention_mask, token_type_ids=token_type_ids)\n",
        "\n",
        "            # A função sigmóide é aplicada aos logits para converter os valores em probabilidades\n",
        "            logits = outputs.logits\n",
        "            predicted_probs = sigmoid(logits)\n",
        "\n",
        "            # Aplicação do threshold\n",
        "            predicted_labels = (predicted_probs > threshold).float()\n",
        "\n",
        "            # Conversão dos rótulos verdadeiros e previstos para numpy arrays\n",
        "            targets_np = targets.cpu().numpy()\n",
        "            predicted_labels_np = predicted_labels.cpu().numpy()\n",
        "\n",
        "            # Coleção dos targets e predictions para calculas as métricas\n",
        "            all_targets.extend(targets_np)\n",
        "            all_predictions.extend(predicted_labels_np)\n",
        "\n",
        "    # Calcular as métricas\n",
        "    f1_macro = f1_score(all_targets, all_predictions, average='macro')\n",
        "    precision_macro = precision_score(all_targets, all_predictions, average='macro')\n",
        "    recall_macro = recall_score(all_targets, all_predictions, average='macro')\n",
        "    f1_micro = f1_score(all_targets, all_predictions, average='micro')\n",
        "    precision_micro = precision_score(all_targets, all_predictions, average='micro')\n",
        "    recall_micro = recall_score(all_targets, all_predictions, average='micro')\n",
        "\n",
        "    # Atualizar a lista das métricas apenas da última epoch\n",
        "    if epoch == epochs - 1:\n",
        "        f1_score_list_macro.append(f1_macro)\n",
        "        precision_list_macro.append(precision_macro)\n",
        "        recall_list_macro.append(recall_macro)\n",
        "        f1_score_list_micro.append(f1_micro)\n",
        "        precision_list_micro.append(precision_micro)\n",
        "        recall_list_micro.append(recall_micro)\n",
        "\n",
        "    # Imprimir as métricas ao final de cada época\n",
        "    print(f\"Epoch {epoch + 1}:\")\n",
        "    print(f\"F1-Score (macro): {f1_macro:.4f}, Precision (macro): {precision_macro:.4f}, Recall (macro): {recall_macro:.4f}\")\n",
        "    print(f\"F1-Score (micro): {f1_micro:.4f}, Precision (micro): {precision_micro:.4f}, Recall (micro): {recall_micro:.4f}\")\n",
        "\n",
        "# Calcular o tempo total de execução\n",
        "end_time = time.time()\n",
        "elapsed_time = end_time - start_time\n",
        "hours, rem = divmod(elapsed_time, 3600)\n",
        "minutes, seconds = divmod(rem, 60)\n",
        "\n",
        "print(f\"\\nTempo de execução: {int(hours):02}:{int(minutes):02}:{seconds:.2f}\")"
      ]
    },
    {
      "cell_type": "markdown",
      "metadata": {
        "id": "jjoEyUi1r2kR"
      },
      "source": [
        "## 3° Fold"
      ]
    },
    {
      "cell_type": "code",
      "execution_count": null,
      "metadata": {
        "id": "RZ__OZCHr2kS"
      },
      "outputs": [],
      "source": [
        "# Dividir o dataset\n",
        "test_data = df_fold3\n",
        "train_data = pd.concat([df_fold1, df_fold2, df_fold4, df_fold5], ignore_index=True)"
      ]
    },
    {
      "cell_type": "code",
      "execution_count": null,
      "metadata": {
        "id": "MZgEqx8ar2kS"
      },
      "outputs": [],
      "source": [
        "# Tokenizar o dataset\n",
        "tokenized_train_data = TokenizeDataset(train_data, tokenizer, max_len)\n",
        "tokenized_test_data = TokenizeDataset(test_data, tokenizer, max_len)"
      ]
    },
    {
      "cell_type": "code",
      "execution_count": null,
      "metadata": {
        "id": "VQ4MKENfr2kS"
      },
      "outputs": [],
      "source": [
        "# Criar DataLoader para carregar os dados em lotes durante o treinamento\n",
        "train_loader = DataLoader(tokenized_train_data, batch_size=train_batch_size, shuffle=True)\n",
        "val_loader = DataLoader(tokenized_test_data, batch_size=valid_batch_size, shuffle=False)"
      ]
    },
    {
      "cell_type": "code",
      "execution_count": null,
      "metadata": {
        "id": "-tjUJP49r2kS"
      },
      "outputs": [],
      "source": [
        "# Definir modelo, optimizer, e loss function\n",
        "model = BertForSequenceClassification.from_pretrained('neuralmind/bert-base-portuguese-cased', num_labels=num_labels, problem_type=\"multi_label_classification\")\n",
        "optimizer = torch.optim.Adam(model.parameters(), lr=learning_rate)\n",
        "criterion = torch.nn.BCEWithLogitsLoss()\n",
        "sigmoid = torch.nn.Sigmoid()"
      ]
    },
    {
      "cell_type": "code",
      "execution_count": null,
      "metadata": {
        "id": "IFM3BS3or2kS"
      },
      "outputs": [],
      "source": [
        "start_time = time.time()\n",
        "\n",
        "for epoch in range(epochs):\n",
        "    # Loop de Treinamento\n",
        "    model.train() # modo de treinamento\n",
        "    for batch in train_loader:\n",
        "        inputs_ids = batch['input_ids']\n",
        "        attention_mask = batch['attention_mask']\n",
        "        token_type_ids = batch['token_type_ids']\n",
        "        targets = batch['targets']\n",
        "\n",
        "        # Passagem Direta - os dados de entrada são passados para o modelo\n",
        "        outputs = model(input_ids=inputs_ids, attention_mask=attention_mask, token_type_ids=token_type_ids)\n",
        "\n",
        "        # A função sigmóide é aplicada aos logits para converter os valores em probabilidades\n",
        "        logits = outputs.logits\n",
        "        predicted_probs = sigmoid(logits)\n",
        "\n",
        "        # A perda é calculada comparando os logits com os rótulos verdadeiros (targets)\n",
        "        loss = criterion(logits, targets) # função de perda criterion\n",
        "\n",
        "        # Retropropagação e Otimização\n",
        "        optimizer.zero_grad()\n",
        "        loss.backward() #  gradiente é calculado\n",
        "        optimizer.step() # parâmetros do modelo são otimizados\n",
        "\n",
        "    # Loop de Validação\n",
        "    model.eval() # modo de avaliação\n",
        "    all_targets = []\n",
        "    all_predictions = []\n",
        "    with torch.no_grad():\n",
        "        for batch in val_loader:\n",
        "            inputs_ids = batch['input_ids']\n",
        "            attention_mask = batch['attention_mask']\n",
        "            token_type_ids = batch['token_type_ids']\n",
        "            targets = batch['targets']\n",
        "\n",
        "            # Passagem Direta (inferência) - da mesma foram que o treinamento\n",
        "            outputs = model(input_ids=inputs_ids, attention_mask=attention_mask, token_type_ids=token_type_ids)\n",
        "\n",
        "            # A função sigmóide é aplicada aos logits para converter os valores em probabilidades\n",
        "            logits = outputs.logits\n",
        "            predicted_probs = sigmoid(logits)\n",
        "\n",
        "            # Aplicação do threshold\n",
        "            predicted_labels = (predicted_probs > threshold).float()\n",
        "\n",
        "            # Conversão dos rótulos verdadeiros e previstos para numpy arrays\n",
        "            targets_np = targets.cpu().numpy()\n",
        "            predicted_labels_np = predicted_labels.cpu().numpy()\n",
        "\n",
        "            # Coleção dos targets e predictions para calculas as métricas\n",
        "            all_targets.extend(targets_np)\n",
        "            all_predictions.extend(predicted_labels_np)\n",
        "\n",
        "    # Calcular as métricas\n",
        "    f1_macro = f1_score(all_targets, all_predictions, average='macro')\n",
        "    precision_macro = precision_score(all_targets, all_predictions, average='macro')\n",
        "    recall_macro = recall_score(all_targets, all_predictions, average='macro')\n",
        "    f1_micro = f1_score(all_targets, all_predictions, average='micro')\n",
        "    precision_micro = precision_score(all_targets, all_predictions, average='micro')\n",
        "    recall_micro = recall_score(all_targets, all_predictions, average='micro')\n",
        "\n",
        "    # Atualizar a lista das métricas apenas da última epoch\n",
        "    if epoch == epochs - 1:\n",
        "        f1_score_list_macro.append(f1_macro)\n",
        "        precision_list_macro.append(precision_macro)\n",
        "        recall_list_macro.append(recall_macro)\n",
        "        f1_score_list_micro.append(f1_micro)\n",
        "        precision_list_micro.append(precision_micro)\n",
        "        recall_list_micro.append(recall_micro)\n",
        "\n",
        "    # Imprimir as métricas ao final de cada época\n",
        "    print(f\"Epoch {epoch + 1}:\")\n",
        "    print(f\"F1-Score (macro): {f1_macro:.4f}, Precision (macro): {precision_macro:.4f}, Recall (macro): {recall_macro:.4f}\")\n",
        "    print(f\"F1-Score (micro): {f1_micro:.4f}, Precision (micro): {precision_micro:.4f}, Recall (micro): {recall_micro:.4f}\")\n",
        "\n",
        "# Calcular o tempo total de execução\n",
        "end_time = time.time()\n",
        "elapsed_time = end_time - start_time\n",
        "hours, rem = divmod(elapsed_time, 3600)\n",
        "minutes, seconds = divmod(rem, 60)\n",
        "\n",
        "print(f\"\\nTempo de execução: {int(hours):02}:{int(minutes):02}:{seconds:.2f}\")"
      ]
    },
    {
      "cell_type": "markdown",
      "metadata": {
        "id": "KOMA8P3Rr3Lo"
      },
      "source": [
        "## 4° Fold"
      ]
    },
    {
      "cell_type": "code",
      "execution_count": null,
      "metadata": {
        "id": "dD9BhGolr3Lo"
      },
      "outputs": [],
      "source": [
        "# Dividir o dataset\n",
        "test_data = df_fold4\n",
        "train_data = pd.concat([df_fold1, df_fold2, df_fold3, df_fold5], ignore_index=True)"
      ]
    },
    {
      "cell_type": "code",
      "execution_count": null,
      "metadata": {
        "id": "YXQt8lsOr3Lo"
      },
      "outputs": [],
      "source": [
        "# Tokenizar o dataset\n",
        "tokenized_train_data = TokenizeDataset(train_data, tokenizer, max_len)\n",
        "tokenized_test_data = TokenizeDataset(test_data, tokenizer, max_len)"
      ]
    },
    {
      "cell_type": "code",
      "execution_count": null,
      "metadata": {
        "id": "UdM1iPrkr3Lp"
      },
      "outputs": [],
      "source": [
        "# Criar DataLoader para carregar os dados em lotes durante o treinamento\n",
        "train_loader = DataLoader(tokenized_train_data, batch_size=train_batch_size, shuffle=True)\n",
        "val_loader = DataLoader(tokenized_test_data, batch_size=valid_batch_size, shuffle=False)"
      ]
    },
    {
      "cell_type": "code",
      "execution_count": null,
      "metadata": {
        "id": "kpqhiJPTr3Lp"
      },
      "outputs": [],
      "source": [
        "# Definir modelo, optimizer, e loss function\n",
        "model = BertForSequenceClassification.from_pretrained('neuralmind/bert-base-portuguese-cased', num_labels=num_labels, problem_type=\"multi_label_classification\")\n",
        "optimizer = torch.optim.Adam(model.parameters(), lr=learning_rate)\n",
        "criterion = torch.nn.BCEWithLogitsLoss()\n",
        "sigmoid = torch.nn.Sigmoid()"
      ]
    },
    {
      "cell_type": "code",
      "execution_count": null,
      "metadata": {
        "id": "EHyIIUihr3Lp"
      },
      "outputs": [],
      "source": [
        "start_time = time.time()\n",
        "\n",
        "for epoch in range(epochs):\n",
        "    # Loop de Treinamento\n",
        "    model.train() # modo de treinamento\n",
        "    for batch in train_loader:\n",
        "        inputs_ids = batch['input_ids']\n",
        "        attention_mask = batch['attention_mask']\n",
        "        token_type_ids = batch['token_type_ids']\n",
        "        targets = batch['targets']\n",
        "\n",
        "        # Passagem Direta - os dados de entrada são passados para o modelo\n",
        "        outputs = model(input_ids=inputs_ids, attention_mask=attention_mask, token_type_ids=token_type_ids)\n",
        "\n",
        "        # A função sigmóide é aplicada aos logits para converter os valores em probabilidades\n",
        "        logits = outputs.logits\n",
        "        predicted_probs = sigmoid(logits)\n",
        "\n",
        "        # A perda é calculada comparando os logits com os rótulos verdadeiros (targets)\n",
        "        loss = criterion(logits, targets) # função de perda criterion\n",
        "\n",
        "        # Retropropagação e Otimização\n",
        "        optimizer.zero_grad()\n",
        "        loss.backward() #  gradiente é calculado\n",
        "        optimizer.step() # parâmetros do modelo são otimizados\n",
        "\n",
        "    # Loop de Validação\n",
        "    model.eval() # modo de avaliação\n",
        "    all_targets = []\n",
        "    all_predictions = []\n",
        "    with torch.no_grad():\n",
        "        for batch in val_loader:\n",
        "            inputs_ids = batch['input_ids']\n",
        "            attention_mask = batch['attention_mask']\n",
        "            token_type_ids = batch['token_type_ids']\n",
        "            targets = batch['targets']\n",
        "\n",
        "            # Passagem Direta (inferência) - da mesma foram que o treinamento\n",
        "            outputs = model(input_ids=inputs_ids, attention_mask=attention_mask, token_type_ids=token_type_ids)\n",
        "\n",
        "            # A função sigmóide é aplicada aos logits para converter os valores em probabilidades\n",
        "            logits = outputs.logits\n",
        "            predicted_probs = sigmoid(logits)\n",
        "\n",
        "            # Aplicação do threshold\n",
        "            predicted_labels = (predicted_probs > threshold).float()\n",
        "\n",
        "            # Conversão dos rótulos verdadeiros e previstos para numpy arrays\n",
        "            targets_np = targets.cpu().numpy()\n",
        "            predicted_labels_np = predicted_labels.cpu().numpy()\n",
        "\n",
        "            # Coleção dos targets e predictions para calculas as métricas\n",
        "            all_targets.extend(targets_np)\n",
        "            all_predictions.extend(predicted_labels_np)\n",
        "\n",
        "    # Calcular as métricas\n",
        "    f1_macro = f1_score(all_targets, all_predictions, average='macro')\n",
        "    precision_macro = precision_score(all_targets, all_predictions, average='macro')\n",
        "    recall_macro = recall_score(all_targets, all_predictions, average='macro')\n",
        "    f1_micro = f1_score(all_targets, all_predictions, average='micro')\n",
        "    precision_micro = precision_score(all_targets, all_predictions, average='micro')\n",
        "    recall_micro = recall_score(all_targets, all_predictions, average='micro')\n",
        "\n",
        "    # Atualizar a lista das métricas apenas da última epoch\n",
        "    if epoch == epochs - 1:\n",
        "        f1_score_list_macro.append(f1_macro)\n",
        "        precision_list_macro.append(precision_macro)\n",
        "        recall_list_macro.append(recall_macro)\n",
        "        f1_score_list_micro.append(f1_micro)\n",
        "        precision_list_micro.append(precision_micro)\n",
        "        recall_list_micro.append(recall_micro)\n",
        "\n",
        "    # Imprimir as métricas ao final de cada época\n",
        "    print(f\"Epoch {epoch + 1}:\")\n",
        "    print(f\"F1-Score (macro): {f1_macro:.4f}, Precision (macro): {precision_macro:.4f}, Recall (macro): {recall_macro:.4f}\")\n",
        "    print(f\"F1-Score (micro): {f1_micro:.4f}, Precision (micro): {precision_micro:.4f}, Recall (micro): {recall_micro:.4f}\")\n",
        "\n",
        "# Calcular o tempo total de execução\n",
        "end_time = time.time()\n",
        "elapsed_time = end_time - start_time\n",
        "hours, rem = divmod(elapsed_time, 3600)\n",
        "minutes, seconds = divmod(rem, 60)\n",
        "\n",
        "print(f\"\\nTempo de execução: {int(hours):02}:{int(minutes):02}:{seconds:.2f}\")"
      ]
    },
    {
      "cell_type": "markdown",
      "metadata": {
        "id": "BKMIjvAkr4LJ"
      },
      "source": [
        "## 5° Fold"
      ]
    },
    {
      "cell_type": "code",
      "execution_count": null,
      "metadata": {
        "id": "rTItgakDr4LK"
      },
      "outputs": [],
      "source": [
        "# Dividir o dataset\n",
        "test_data = df_fold5\n",
        "train_data = pd.concat([df_fold1, df_fold2, df_fold3, df_fold4], ignore_index=True)"
      ]
    },
    {
      "cell_type": "code",
      "execution_count": null,
      "metadata": {
        "id": "JndTWNX3r4LK"
      },
      "outputs": [],
      "source": [
        "# Tokenizar o dataset\n",
        "tokenized_train_data = TokenizeDataset(train_data, tokenizer, max_len)\n",
        "tokenized_test_data = TokenizeDataset(test_data, tokenizer, max_len)"
      ]
    },
    {
      "cell_type": "code",
      "execution_count": null,
      "metadata": {
        "id": "isNScIUQr4LK"
      },
      "outputs": [],
      "source": [
        "# Criar DataLoader para carregar os dados em lotes durante o treinamento\n",
        "train_loader = DataLoader(tokenized_train_data, batch_size=train_batch_size, shuffle=True)\n",
        "val_loader = DataLoader(tokenized_test_data, batch_size=valid_batch_size, shuffle=False)"
      ]
    },
    {
      "cell_type": "code",
      "execution_count": null,
      "metadata": {
        "id": "UfHn0Qylr4LK"
      },
      "outputs": [],
      "source": [
        "# Definir modelo, optimizer, e loss function\n",
        "model = BertForSequenceClassification.from_pretrained('neuralmind/bert-base-portuguese-cased', num_labels=num_labels, problem_type=\"multi_label_classification\")\n",
        "optimizer = torch.optim.Adam(model.parameters(), lr=learning_rate)\n",
        "criterion = torch.nn.BCEWithLogitsLoss()\n",
        "sigmoid = torch.nn.Sigmoid()"
      ]
    },
    {
      "cell_type": "code",
      "execution_count": null,
      "metadata": {
        "id": "S_2EMX2Cr4LL"
      },
      "outputs": [],
      "source": [
        "start_time = time.time()\n",
        "\n",
        "for epoch in range(epochs):\n",
        "    # Loop de Treinamento\n",
        "    model.train() # modo de treinamento\n",
        "    for batch in train_loader:\n",
        "        inputs_ids = batch['input_ids']\n",
        "        attention_mask = batch['attention_mask']\n",
        "        token_type_ids = batch['token_type_ids']\n",
        "        targets = batch['targets']\n",
        "\n",
        "        # Passagem Direta - os dados de entrada são passados para o modelo\n",
        "        outputs = model(input_ids=inputs_ids, attention_mask=attention_mask, token_type_ids=token_type_ids)\n",
        "\n",
        "        # A função sigmóide é aplicada aos logits para converter os valores em probabilidades\n",
        "        logits = outputs.logits\n",
        "        predicted_probs = sigmoid(logits)\n",
        "\n",
        "        # A perda é calculada comparando os logits com os rótulos verdadeiros (targets)\n",
        "        loss = criterion(logits, targets) # função de perda criterion\n",
        "\n",
        "        # Retropropagação e Otimização\n",
        "        optimizer.zero_grad()\n",
        "        loss.backward() #  gradiente é calculado\n",
        "        optimizer.step() # parâmetros do modelo são otimizados\n",
        "\n",
        "    # Loop de Validação\n",
        "    model.eval() # modo de avaliação\n",
        "    all_targets = []\n",
        "    all_predictions = []\n",
        "    with torch.no_grad():\n",
        "        for batch in val_loader:\n",
        "            inputs_ids = batch['input_ids']\n",
        "            attention_mask = batch['attention_mask']\n",
        "            token_type_ids = batch['token_type_ids']\n",
        "            targets = batch['targets']\n",
        "\n",
        "            # Passagem Direta (inferência) - da mesma foram que o treinamento\n",
        "            outputs = model(input_ids=inputs_ids, attention_mask=attention_mask, token_type_ids=token_type_ids)\n",
        "\n",
        "            # A função sigmóide é aplicada aos logits para converter os valores em probabilidades\n",
        "            logits = outputs.logits\n",
        "            predicted_probs = sigmoid(logits)\n",
        "\n",
        "            # Aplicação do threshold\n",
        "            predicted_labels = (predicted_probs > threshold).float()\n",
        "\n",
        "            # Conversão dos rótulos verdadeiros e previstos para numpy arrays\n",
        "            targets_np = targets.cpu().numpy()\n",
        "            predicted_labels_np = predicted_labels.cpu().numpy()\n",
        "\n",
        "            # Coleção dos targets e predictions para calculas as métricas\n",
        "            all_targets.extend(targets_np)\n",
        "            all_predictions.extend(predicted_labels_np)\n",
        "\n",
        "    # Calcular as métricas\n",
        "    f1_macro = f1_score(all_targets, all_predictions, average='macro')\n",
        "    precision_macro = precision_score(all_targets, all_predictions, average='macro')\n",
        "    recall_macro = recall_score(all_targets, all_predictions, average='macro')\n",
        "    f1_micro = f1_score(all_targets, all_predictions, average='micro')\n",
        "    precision_micro = precision_score(all_targets, all_predictions, average='micro')\n",
        "    recall_micro = recall_score(all_targets, all_predictions, average='micro')\n",
        "\n",
        "    # Atualizar a lista das métricas apenas da última epoch\n",
        "    if epoch == epochs - 1:\n",
        "        f1_score_list_macro.append(f1_macro)\n",
        "        precision_list_macro.append(precision_macro)\n",
        "        recall_list_macro.append(recall_macro)\n",
        "        f1_score_list_micro.append(f1_micro)\n",
        "        precision_list_micro.append(precision_micro)\n",
        "        recall_list_micro.append(recall_micro)\n",
        "\n",
        "    # Imprimir as métricas ao final de cada época\n",
        "    print(f\"Epoch {epoch + 1}:\")\n",
        "    print(f\"F1-Score (macro): {f1_macro:.4f}, Precision (macro): {precision_macro:.4f}, Recall (macro): {recall_macro:.4f}\")\n",
        "    print(f\"F1-Score (micro): {f1_micro:.4f}, Precision (micro): {precision_micro:.4f}, Recall (micro): {recall_micro:.4f}\")\n",
        "\n",
        "# Calcular o tempo total de execução\n",
        "end_time = time.time()\n",
        "elapsed_time = end_time - start_time\n",
        "hours, rem = divmod(elapsed_time, 3600)\n",
        "minutes, seconds = divmod(rem, 60)\n",
        "\n",
        "print(f\"\\nTempo de execução: {int(hours):02}:{int(minutes):02}:{seconds:.2f}\")"
      ]
    },
    {
      "cell_type": "markdown",
      "source": [
        "## Resultado final (média dos 5 folds)"
      ],
      "metadata": {
        "id": "r0YXE7lgqDqq"
      }
    },
    {
      "cell_type": "code",
      "source": [
        "# Imprimir as listas de métricas\n",
        "print(\"Listas de Métricas:\")\n",
        "print(\"F1-Score Macro:\", f1_score_list_macro)\n",
        "print(\"Precision Macro:\", precision_list_macro)\n",
        "print(\"Recall Macro:\", recall_list_macro)\n",
        "print(\"F1-Score Micro:\", f1_score_list_micro)\n",
        "print(\"Precision Micro:\", precision_list_micro)\n",
        "print(\"Recall Micro:\", recall_list_micro)"
      ],
      "metadata": {
        "id": "T9j6wRyErKy-"
      },
      "execution_count": null,
      "outputs": []
    },
    {
      "cell_type": "code",
      "source": [
        "# Imprimir as métricas médias obtidas nas 5 partições\n",
        "print(f\"F1-Score Macro médio: {np.mean(f1_score_list_macro):.4f}\")\n",
        "print(f\"Precision Macro média: {np.mean(precision_list_macro):.4f}\")\n",
        "print(f\"Recall Macro média: {np.mean(recall_list_macro):.4f}\")\n",
        "print(f\"F1-Score Micro médio: {np.mean(f1_score_list_micro):.4f}\")\n",
        "print(f\"Precision Micro média: {np.mean(precision_list_micro):.4f}\")\n",
        "print(f\"Recall Micro média: {np.mean(recall_list_micro):.4f}\")"
      ],
      "metadata": {
        "id": "LgB8ecFXqHwM"
      },
      "execution_count": null,
      "outputs": []
    }
  ],
  "metadata": {
    "colab": {
      "collapsed_sections": [
        "XzMDrm5t1ctu",
        "XbG5ug2TOchu",
        "qSPclZmH0KzO",
        "BrR8KbyyYUka",
        "sgEWkw82zPfy",
        "obM0l_ZFr1v9",
        "jjoEyUi1r2kR",
        "KOMA8P3Rr3Lo",
        "BKMIjvAkr4LJ",
        "r0YXE7lgqDqq"
      ],
      "provenance": [],
      "toc_visible": true
    },
    "kernelspec": {
      "display_name": "Python 3",
      "name": "python3"
    },
    "language_info": {
      "name": "python"
    },
    "widgets": {
      "application/vnd.jupyter.widget-state+json": {
        "d0b5ae74570f4ee79cc140eb0b88aa87": {
          "model_module": "@jupyter-widgets/controls",
          "model_name": "HBoxModel",
          "model_module_version": "1.5.0",
          "state": {
            "_dom_classes": [],
            "_model_module": "@jupyter-widgets/controls",
            "_model_module_version": "1.5.0",
            "_model_name": "HBoxModel",
            "_view_count": null,
            "_view_module": "@jupyter-widgets/controls",
            "_view_module_version": "1.5.0",
            "_view_name": "HBoxView",
            "box_style": "",
            "children": [
              "IPY_MODEL_8405da6e5f094b61818c111fba008988",
              "IPY_MODEL_71e578d0b6b04573b01240b3d2b26705",
              "IPY_MODEL_9510545889b14a08a91ba318ccfa0a2a"
            ],
            "layout": "IPY_MODEL_cc26c9a0a2844b21958330b64699b0bd"
          }
        },
        "8405da6e5f094b61818c111fba008988": {
          "model_module": "@jupyter-widgets/controls",
          "model_name": "HTMLModel",
          "model_module_version": "1.5.0",
          "state": {
            "_dom_classes": [],
            "_model_module": "@jupyter-widgets/controls",
            "_model_module_version": "1.5.0",
            "_model_name": "HTMLModel",
            "_view_count": null,
            "_view_module": "@jupyter-widgets/controls",
            "_view_module_version": "1.5.0",
            "_view_name": "HTMLView",
            "description": "",
            "description_tooltip": null,
            "layout": "IPY_MODEL_a339fa64334345b79434c306c58e67bf",
            "placeholder": "​",
            "style": "IPY_MODEL_a9f1928f5d9c4059890083c0389b45f8",
            "value": "tokenizer_config.json: 100%"
          }
        },
        "71e578d0b6b04573b01240b3d2b26705": {
          "model_module": "@jupyter-widgets/controls",
          "model_name": "FloatProgressModel",
          "model_module_version": "1.5.0",
          "state": {
            "_dom_classes": [],
            "_model_module": "@jupyter-widgets/controls",
            "_model_module_version": "1.5.0",
            "_model_name": "FloatProgressModel",
            "_view_count": null,
            "_view_module": "@jupyter-widgets/controls",
            "_view_module_version": "1.5.0",
            "_view_name": "ProgressView",
            "bar_style": "success",
            "description": "",
            "description_tooltip": null,
            "layout": "IPY_MODEL_9a7eb38578914b2085407504b2ce8aac",
            "max": 43,
            "min": 0,
            "orientation": "horizontal",
            "style": "IPY_MODEL_0107a9ab72964d67b9df7925fa38bd70",
            "value": 43
          }
        },
        "9510545889b14a08a91ba318ccfa0a2a": {
          "model_module": "@jupyter-widgets/controls",
          "model_name": "HTMLModel",
          "model_module_version": "1.5.0",
          "state": {
            "_dom_classes": [],
            "_model_module": "@jupyter-widgets/controls",
            "_model_module_version": "1.5.0",
            "_model_name": "HTMLModel",
            "_view_count": null,
            "_view_module": "@jupyter-widgets/controls",
            "_view_module_version": "1.5.0",
            "_view_name": "HTMLView",
            "description": "",
            "description_tooltip": null,
            "layout": "IPY_MODEL_352e29e370234e2da1432dfdea06f96c",
            "placeholder": "​",
            "style": "IPY_MODEL_0bb48cc605144dd1a445325024b6a359",
            "value": " 43.0/43.0 [00:00&lt;00:00, 1.05kB/s]"
          }
        },
        "cc26c9a0a2844b21958330b64699b0bd": {
          "model_module": "@jupyter-widgets/base",
          "model_name": "LayoutModel",
          "model_module_version": "1.2.0",
          "state": {
            "_model_module": "@jupyter-widgets/base",
            "_model_module_version": "1.2.0",
            "_model_name": "LayoutModel",
            "_view_count": null,
            "_view_module": "@jupyter-widgets/base",
            "_view_module_version": "1.2.0",
            "_view_name": "LayoutView",
            "align_content": null,
            "align_items": null,
            "align_self": null,
            "border": null,
            "bottom": null,
            "display": null,
            "flex": null,
            "flex_flow": null,
            "grid_area": null,
            "grid_auto_columns": null,
            "grid_auto_flow": null,
            "grid_auto_rows": null,
            "grid_column": null,
            "grid_gap": null,
            "grid_row": null,
            "grid_template_areas": null,
            "grid_template_columns": null,
            "grid_template_rows": null,
            "height": null,
            "justify_content": null,
            "justify_items": null,
            "left": null,
            "margin": null,
            "max_height": null,
            "max_width": null,
            "min_height": null,
            "min_width": null,
            "object_fit": null,
            "object_position": null,
            "order": null,
            "overflow": null,
            "overflow_x": null,
            "overflow_y": null,
            "padding": null,
            "right": null,
            "top": null,
            "visibility": null,
            "width": null
          }
        },
        "a339fa64334345b79434c306c58e67bf": {
          "model_module": "@jupyter-widgets/base",
          "model_name": "LayoutModel",
          "model_module_version": "1.2.0",
          "state": {
            "_model_module": "@jupyter-widgets/base",
            "_model_module_version": "1.2.0",
            "_model_name": "LayoutModel",
            "_view_count": null,
            "_view_module": "@jupyter-widgets/base",
            "_view_module_version": "1.2.0",
            "_view_name": "LayoutView",
            "align_content": null,
            "align_items": null,
            "align_self": null,
            "border": null,
            "bottom": null,
            "display": null,
            "flex": null,
            "flex_flow": null,
            "grid_area": null,
            "grid_auto_columns": null,
            "grid_auto_flow": null,
            "grid_auto_rows": null,
            "grid_column": null,
            "grid_gap": null,
            "grid_row": null,
            "grid_template_areas": null,
            "grid_template_columns": null,
            "grid_template_rows": null,
            "height": null,
            "justify_content": null,
            "justify_items": null,
            "left": null,
            "margin": null,
            "max_height": null,
            "max_width": null,
            "min_height": null,
            "min_width": null,
            "object_fit": null,
            "object_position": null,
            "order": null,
            "overflow": null,
            "overflow_x": null,
            "overflow_y": null,
            "padding": null,
            "right": null,
            "top": null,
            "visibility": null,
            "width": null
          }
        },
        "a9f1928f5d9c4059890083c0389b45f8": {
          "model_module": "@jupyter-widgets/controls",
          "model_name": "DescriptionStyleModel",
          "model_module_version": "1.5.0",
          "state": {
            "_model_module": "@jupyter-widgets/controls",
            "_model_module_version": "1.5.0",
            "_model_name": "DescriptionStyleModel",
            "_view_count": null,
            "_view_module": "@jupyter-widgets/base",
            "_view_module_version": "1.2.0",
            "_view_name": "StyleView",
            "description_width": ""
          }
        },
        "9a7eb38578914b2085407504b2ce8aac": {
          "model_module": "@jupyter-widgets/base",
          "model_name": "LayoutModel",
          "model_module_version": "1.2.0",
          "state": {
            "_model_module": "@jupyter-widgets/base",
            "_model_module_version": "1.2.0",
            "_model_name": "LayoutModel",
            "_view_count": null,
            "_view_module": "@jupyter-widgets/base",
            "_view_module_version": "1.2.0",
            "_view_name": "LayoutView",
            "align_content": null,
            "align_items": null,
            "align_self": null,
            "border": null,
            "bottom": null,
            "display": null,
            "flex": null,
            "flex_flow": null,
            "grid_area": null,
            "grid_auto_columns": null,
            "grid_auto_flow": null,
            "grid_auto_rows": null,
            "grid_column": null,
            "grid_gap": null,
            "grid_row": null,
            "grid_template_areas": null,
            "grid_template_columns": null,
            "grid_template_rows": null,
            "height": null,
            "justify_content": null,
            "justify_items": null,
            "left": null,
            "margin": null,
            "max_height": null,
            "max_width": null,
            "min_height": null,
            "min_width": null,
            "object_fit": null,
            "object_position": null,
            "order": null,
            "overflow": null,
            "overflow_x": null,
            "overflow_y": null,
            "padding": null,
            "right": null,
            "top": null,
            "visibility": null,
            "width": null
          }
        },
        "0107a9ab72964d67b9df7925fa38bd70": {
          "model_module": "@jupyter-widgets/controls",
          "model_name": "ProgressStyleModel",
          "model_module_version": "1.5.0",
          "state": {
            "_model_module": "@jupyter-widgets/controls",
            "_model_module_version": "1.5.0",
            "_model_name": "ProgressStyleModel",
            "_view_count": null,
            "_view_module": "@jupyter-widgets/base",
            "_view_module_version": "1.2.0",
            "_view_name": "StyleView",
            "bar_color": null,
            "description_width": ""
          }
        },
        "352e29e370234e2da1432dfdea06f96c": {
          "model_module": "@jupyter-widgets/base",
          "model_name": "LayoutModel",
          "model_module_version": "1.2.0",
          "state": {
            "_model_module": "@jupyter-widgets/base",
            "_model_module_version": "1.2.0",
            "_model_name": "LayoutModel",
            "_view_count": null,
            "_view_module": "@jupyter-widgets/base",
            "_view_module_version": "1.2.0",
            "_view_name": "LayoutView",
            "align_content": null,
            "align_items": null,
            "align_self": null,
            "border": null,
            "bottom": null,
            "display": null,
            "flex": null,
            "flex_flow": null,
            "grid_area": null,
            "grid_auto_columns": null,
            "grid_auto_flow": null,
            "grid_auto_rows": null,
            "grid_column": null,
            "grid_gap": null,
            "grid_row": null,
            "grid_template_areas": null,
            "grid_template_columns": null,
            "grid_template_rows": null,
            "height": null,
            "justify_content": null,
            "justify_items": null,
            "left": null,
            "margin": null,
            "max_height": null,
            "max_width": null,
            "min_height": null,
            "min_width": null,
            "object_fit": null,
            "object_position": null,
            "order": null,
            "overflow": null,
            "overflow_x": null,
            "overflow_y": null,
            "padding": null,
            "right": null,
            "top": null,
            "visibility": null,
            "width": null
          }
        },
        "0bb48cc605144dd1a445325024b6a359": {
          "model_module": "@jupyter-widgets/controls",
          "model_name": "DescriptionStyleModel",
          "model_module_version": "1.5.0",
          "state": {
            "_model_module": "@jupyter-widgets/controls",
            "_model_module_version": "1.5.0",
            "_model_name": "DescriptionStyleModel",
            "_view_count": null,
            "_view_module": "@jupyter-widgets/base",
            "_view_module_version": "1.2.0",
            "_view_name": "StyleView",
            "description_width": ""
          }
        },
        "432328f739bf44a3932f0ebf248865d2": {
          "model_module": "@jupyter-widgets/controls",
          "model_name": "HBoxModel",
          "model_module_version": "1.5.0",
          "state": {
            "_dom_classes": [],
            "_model_module": "@jupyter-widgets/controls",
            "_model_module_version": "1.5.0",
            "_model_name": "HBoxModel",
            "_view_count": null,
            "_view_module": "@jupyter-widgets/controls",
            "_view_module_version": "1.5.0",
            "_view_name": "HBoxView",
            "box_style": "",
            "children": [
              "IPY_MODEL_f7b30104b021427d822b8e75ead6b029",
              "IPY_MODEL_76c1b2e348274187af2b734370a464ba",
              "IPY_MODEL_0b09243b32084207afe1136194bed38b"
            ],
            "layout": "IPY_MODEL_9630e1505f82447fada4fa74fb8897f7"
          }
        },
        "f7b30104b021427d822b8e75ead6b029": {
          "model_module": "@jupyter-widgets/controls",
          "model_name": "HTMLModel",
          "model_module_version": "1.5.0",
          "state": {
            "_dom_classes": [],
            "_model_module": "@jupyter-widgets/controls",
            "_model_module_version": "1.5.0",
            "_model_name": "HTMLModel",
            "_view_count": null,
            "_view_module": "@jupyter-widgets/controls",
            "_view_module_version": "1.5.0",
            "_view_name": "HTMLView",
            "description": "",
            "description_tooltip": null,
            "layout": "IPY_MODEL_8cbcbc2796874eb9aa83373b6ed941c3",
            "placeholder": "​",
            "style": "IPY_MODEL_27cc7fc56d2d4e758b096f89697d3538",
            "value": "vocab.txt: 100%"
          }
        },
        "76c1b2e348274187af2b734370a464ba": {
          "model_module": "@jupyter-widgets/controls",
          "model_name": "FloatProgressModel",
          "model_module_version": "1.5.0",
          "state": {
            "_dom_classes": [],
            "_model_module": "@jupyter-widgets/controls",
            "_model_module_version": "1.5.0",
            "_model_name": "FloatProgressModel",
            "_view_count": null,
            "_view_module": "@jupyter-widgets/controls",
            "_view_module_version": "1.5.0",
            "_view_name": "ProgressView",
            "bar_style": "success",
            "description": "",
            "description_tooltip": null,
            "layout": "IPY_MODEL_e2d4a3a9d11748698ef73ccbac721205",
            "max": 209528,
            "min": 0,
            "orientation": "horizontal",
            "style": "IPY_MODEL_55d4237fce3547fc88b3157756e039f4",
            "value": 209528
          }
        },
        "0b09243b32084207afe1136194bed38b": {
          "model_module": "@jupyter-widgets/controls",
          "model_name": "HTMLModel",
          "model_module_version": "1.5.0",
          "state": {
            "_dom_classes": [],
            "_model_module": "@jupyter-widgets/controls",
            "_model_module_version": "1.5.0",
            "_model_name": "HTMLModel",
            "_view_count": null,
            "_view_module": "@jupyter-widgets/controls",
            "_view_module_version": "1.5.0",
            "_view_name": "HTMLView",
            "description": "",
            "description_tooltip": null,
            "layout": "IPY_MODEL_ce1ac70a1a2e4e7c96ec9af9fb31d907",
            "placeholder": "​",
            "style": "IPY_MODEL_098c615c0ccd4b3290edf917909c0887",
            "value": " 210k/210k [00:00&lt;00:00, 1.62MB/s]"
          }
        },
        "9630e1505f82447fada4fa74fb8897f7": {
          "model_module": "@jupyter-widgets/base",
          "model_name": "LayoutModel",
          "model_module_version": "1.2.0",
          "state": {
            "_model_module": "@jupyter-widgets/base",
            "_model_module_version": "1.2.0",
            "_model_name": "LayoutModel",
            "_view_count": null,
            "_view_module": "@jupyter-widgets/base",
            "_view_module_version": "1.2.0",
            "_view_name": "LayoutView",
            "align_content": null,
            "align_items": null,
            "align_self": null,
            "border": null,
            "bottom": null,
            "display": null,
            "flex": null,
            "flex_flow": null,
            "grid_area": null,
            "grid_auto_columns": null,
            "grid_auto_flow": null,
            "grid_auto_rows": null,
            "grid_column": null,
            "grid_gap": null,
            "grid_row": null,
            "grid_template_areas": null,
            "grid_template_columns": null,
            "grid_template_rows": null,
            "height": null,
            "justify_content": null,
            "justify_items": null,
            "left": null,
            "margin": null,
            "max_height": null,
            "max_width": null,
            "min_height": null,
            "min_width": null,
            "object_fit": null,
            "object_position": null,
            "order": null,
            "overflow": null,
            "overflow_x": null,
            "overflow_y": null,
            "padding": null,
            "right": null,
            "top": null,
            "visibility": null,
            "width": null
          }
        },
        "8cbcbc2796874eb9aa83373b6ed941c3": {
          "model_module": "@jupyter-widgets/base",
          "model_name": "LayoutModel",
          "model_module_version": "1.2.0",
          "state": {
            "_model_module": "@jupyter-widgets/base",
            "_model_module_version": "1.2.0",
            "_model_name": "LayoutModel",
            "_view_count": null,
            "_view_module": "@jupyter-widgets/base",
            "_view_module_version": "1.2.0",
            "_view_name": "LayoutView",
            "align_content": null,
            "align_items": null,
            "align_self": null,
            "border": null,
            "bottom": null,
            "display": null,
            "flex": null,
            "flex_flow": null,
            "grid_area": null,
            "grid_auto_columns": null,
            "grid_auto_flow": null,
            "grid_auto_rows": null,
            "grid_column": null,
            "grid_gap": null,
            "grid_row": null,
            "grid_template_areas": null,
            "grid_template_columns": null,
            "grid_template_rows": null,
            "height": null,
            "justify_content": null,
            "justify_items": null,
            "left": null,
            "margin": null,
            "max_height": null,
            "max_width": null,
            "min_height": null,
            "min_width": null,
            "object_fit": null,
            "object_position": null,
            "order": null,
            "overflow": null,
            "overflow_x": null,
            "overflow_y": null,
            "padding": null,
            "right": null,
            "top": null,
            "visibility": null,
            "width": null
          }
        },
        "27cc7fc56d2d4e758b096f89697d3538": {
          "model_module": "@jupyter-widgets/controls",
          "model_name": "DescriptionStyleModel",
          "model_module_version": "1.5.0",
          "state": {
            "_model_module": "@jupyter-widgets/controls",
            "_model_module_version": "1.5.0",
            "_model_name": "DescriptionStyleModel",
            "_view_count": null,
            "_view_module": "@jupyter-widgets/base",
            "_view_module_version": "1.2.0",
            "_view_name": "StyleView",
            "description_width": ""
          }
        },
        "e2d4a3a9d11748698ef73ccbac721205": {
          "model_module": "@jupyter-widgets/base",
          "model_name": "LayoutModel",
          "model_module_version": "1.2.0",
          "state": {
            "_model_module": "@jupyter-widgets/base",
            "_model_module_version": "1.2.0",
            "_model_name": "LayoutModel",
            "_view_count": null,
            "_view_module": "@jupyter-widgets/base",
            "_view_module_version": "1.2.0",
            "_view_name": "LayoutView",
            "align_content": null,
            "align_items": null,
            "align_self": null,
            "border": null,
            "bottom": null,
            "display": null,
            "flex": null,
            "flex_flow": null,
            "grid_area": null,
            "grid_auto_columns": null,
            "grid_auto_flow": null,
            "grid_auto_rows": null,
            "grid_column": null,
            "grid_gap": null,
            "grid_row": null,
            "grid_template_areas": null,
            "grid_template_columns": null,
            "grid_template_rows": null,
            "height": null,
            "justify_content": null,
            "justify_items": null,
            "left": null,
            "margin": null,
            "max_height": null,
            "max_width": null,
            "min_height": null,
            "min_width": null,
            "object_fit": null,
            "object_position": null,
            "order": null,
            "overflow": null,
            "overflow_x": null,
            "overflow_y": null,
            "padding": null,
            "right": null,
            "top": null,
            "visibility": null,
            "width": null
          }
        },
        "55d4237fce3547fc88b3157756e039f4": {
          "model_module": "@jupyter-widgets/controls",
          "model_name": "ProgressStyleModel",
          "model_module_version": "1.5.0",
          "state": {
            "_model_module": "@jupyter-widgets/controls",
            "_model_module_version": "1.5.0",
            "_model_name": "ProgressStyleModel",
            "_view_count": null,
            "_view_module": "@jupyter-widgets/base",
            "_view_module_version": "1.2.0",
            "_view_name": "StyleView",
            "bar_color": null,
            "description_width": ""
          }
        },
        "ce1ac70a1a2e4e7c96ec9af9fb31d907": {
          "model_module": "@jupyter-widgets/base",
          "model_name": "LayoutModel",
          "model_module_version": "1.2.0",
          "state": {
            "_model_module": "@jupyter-widgets/base",
            "_model_module_version": "1.2.0",
            "_model_name": "LayoutModel",
            "_view_count": null,
            "_view_module": "@jupyter-widgets/base",
            "_view_module_version": "1.2.0",
            "_view_name": "LayoutView",
            "align_content": null,
            "align_items": null,
            "align_self": null,
            "border": null,
            "bottom": null,
            "display": null,
            "flex": null,
            "flex_flow": null,
            "grid_area": null,
            "grid_auto_columns": null,
            "grid_auto_flow": null,
            "grid_auto_rows": null,
            "grid_column": null,
            "grid_gap": null,
            "grid_row": null,
            "grid_template_areas": null,
            "grid_template_columns": null,
            "grid_template_rows": null,
            "height": null,
            "justify_content": null,
            "justify_items": null,
            "left": null,
            "margin": null,
            "max_height": null,
            "max_width": null,
            "min_height": null,
            "min_width": null,
            "object_fit": null,
            "object_position": null,
            "order": null,
            "overflow": null,
            "overflow_x": null,
            "overflow_y": null,
            "padding": null,
            "right": null,
            "top": null,
            "visibility": null,
            "width": null
          }
        },
        "098c615c0ccd4b3290edf917909c0887": {
          "model_module": "@jupyter-widgets/controls",
          "model_name": "DescriptionStyleModel",
          "model_module_version": "1.5.0",
          "state": {
            "_model_module": "@jupyter-widgets/controls",
            "_model_module_version": "1.5.0",
            "_model_name": "DescriptionStyleModel",
            "_view_count": null,
            "_view_module": "@jupyter-widgets/base",
            "_view_module_version": "1.2.0",
            "_view_name": "StyleView",
            "description_width": ""
          }
        },
        "271a3cd702da4541bfa4cb4f4dd9a379": {
          "model_module": "@jupyter-widgets/controls",
          "model_name": "HBoxModel",
          "model_module_version": "1.5.0",
          "state": {
            "_dom_classes": [],
            "_model_module": "@jupyter-widgets/controls",
            "_model_module_version": "1.5.0",
            "_model_name": "HBoxModel",
            "_view_count": null,
            "_view_module": "@jupyter-widgets/controls",
            "_view_module_version": "1.5.0",
            "_view_name": "HBoxView",
            "box_style": "",
            "children": [
              "IPY_MODEL_cdd6ff9bf50449efad6d872558c8816e",
              "IPY_MODEL_7b2cda4323ed457a86318af655b4e610",
              "IPY_MODEL_d4a156da91d44469a675f6bcc8ca6be3"
            ],
            "layout": "IPY_MODEL_30425cdaf40b427b959e308933277670"
          }
        },
        "cdd6ff9bf50449efad6d872558c8816e": {
          "model_module": "@jupyter-widgets/controls",
          "model_name": "HTMLModel",
          "model_module_version": "1.5.0",
          "state": {
            "_dom_classes": [],
            "_model_module": "@jupyter-widgets/controls",
            "_model_module_version": "1.5.0",
            "_model_name": "HTMLModel",
            "_view_count": null,
            "_view_module": "@jupyter-widgets/controls",
            "_view_module_version": "1.5.0",
            "_view_name": "HTMLView",
            "description": "",
            "description_tooltip": null,
            "layout": "IPY_MODEL_1eb2f52a4fa54ef6916910e5455bdd14",
            "placeholder": "​",
            "style": "IPY_MODEL_ab3bfd810b7e4dd2957853308dcd6f56",
            "value": "added_tokens.json: 100%"
          }
        },
        "7b2cda4323ed457a86318af655b4e610": {
          "model_module": "@jupyter-widgets/controls",
          "model_name": "FloatProgressModel",
          "model_module_version": "1.5.0",
          "state": {
            "_dom_classes": [],
            "_model_module": "@jupyter-widgets/controls",
            "_model_module_version": "1.5.0",
            "_model_name": "FloatProgressModel",
            "_view_count": null,
            "_view_module": "@jupyter-widgets/controls",
            "_view_module_version": "1.5.0",
            "_view_name": "ProgressView",
            "bar_style": "success",
            "description": "",
            "description_tooltip": null,
            "layout": "IPY_MODEL_cc656f7ea3164a31b1d8a926dd238d83",
            "max": 2,
            "min": 0,
            "orientation": "horizontal",
            "style": "IPY_MODEL_df6c8fea3d33464d92fd4df1c7197ded",
            "value": 2
          }
        },
        "d4a156da91d44469a675f6bcc8ca6be3": {
          "model_module": "@jupyter-widgets/controls",
          "model_name": "HTMLModel",
          "model_module_version": "1.5.0",
          "state": {
            "_dom_classes": [],
            "_model_module": "@jupyter-widgets/controls",
            "_model_module_version": "1.5.0",
            "_model_name": "HTMLModel",
            "_view_count": null,
            "_view_module": "@jupyter-widgets/controls",
            "_view_module_version": "1.5.0",
            "_view_name": "HTMLView",
            "description": "",
            "description_tooltip": null,
            "layout": "IPY_MODEL_bfa3d86b0d12475eb4009bffbe3608ba",
            "placeholder": "​",
            "style": "IPY_MODEL_01d44be212c3463aa92d32dfff7b07bc",
            "value": " 2.00/2.00 [00:00&lt;00:00, 85.0B/s]"
          }
        },
        "30425cdaf40b427b959e308933277670": {
          "model_module": "@jupyter-widgets/base",
          "model_name": "LayoutModel",
          "model_module_version": "1.2.0",
          "state": {
            "_model_module": "@jupyter-widgets/base",
            "_model_module_version": "1.2.0",
            "_model_name": "LayoutModel",
            "_view_count": null,
            "_view_module": "@jupyter-widgets/base",
            "_view_module_version": "1.2.0",
            "_view_name": "LayoutView",
            "align_content": null,
            "align_items": null,
            "align_self": null,
            "border": null,
            "bottom": null,
            "display": null,
            "flex": null,
            "flex_flow": null,
            "grid_area": null,
            "grid_auto_columns": null,
            "grid_auto_flow": null,
            "grid_auto_rows": null,
            "grid_column": null,
            "grid_gap": null,
            "grid_row": null,
            "grid_template_areas": null,
            "grid_template_columns": null,
            "grid_template_rows": null,
            "height": null,
            "justify_content": null,
            "justify_items": null,
            "left": null,
            "margin": null,
            "max_height": null,
            "max_width": null,
            "min_height": null,
            "min_width": null,
            "object_fit": null,
            "object_position": null,
            "order": null,
            "overflow": null,
            "overflow_x": null,
            "overflow_y": null,
            "padding": null,
            "right": null,
            "top": null,
            "visibility": null,
            "width": null
          }
        },
        "1eb2f52a4fa54ef6916910e5455bdd14": {
          "model_module": "@jupyter-widgets/base",
          "model_name": "LayoutModel",
          "model_module_version": "1.2.0",
          "state": {
            "_model_module": "@jupyter-widgets/base",
            "_model_module_version": "1.2.0",
            "_model_name": "LayoutModel",
            "_view_count": null,
            "_view_module": "@jupyter-widgets/base",
            "_view_module_version": "1.2.0",
            "_view_name": "LayoutView",
            "align_content": null,
            "align_items": null,
            "align_self": null,
            "border": null,
            "bottom": null,
            "display": null,
            "flex": null,
            "flex_flow": null,
            "grid_area": null,
            "grid_auto_columns": null,
            "grid_auto_flow": null,
            "grid_auto_rows": null,
            "grid_column": null,
            "grid_gap": null,
            "grid_row": null,
            "grid_template_areas": null,
            "grid_template_columns": null,
            "grid_template_rows": null,
            "height": null,
            "justify_content": null,
            "justify_items": null,
            "left": null,
            "margin": null,
            "max_height": null,
            "max_width": null,
            "min_height": null,
            "min_width": null,
            "object_fit": null,
            "object_position": null,
            "order": null,
            "overflow": null,
            "overflow_x": null,
            "overflow_y": null,
            "padding": null,
            "right": null,
            "top": null,
            "visibility": null,
            "width": null
          }
        },
        "ab3bfd810b7e4dd2957853308dcd6f56": {
          "model_module": "@jupyter-widgets/controls",
          "model_name": "DescriptionStyleModel",
          "model_module_version": "1.5.0",
          "state": {
            "_model_module": "@jupyter-widgets/controls",
            "_model_module_version": "1.5.0",
            "_model_name": "DescriptionStyleModel",
            "_view_count": null,
            "_view_module": "@jupyter-widgets/base",
            "_view_module_version": "1.2.0",
            "_view_name": "StyleView",
            "description_width": ""
          }
        },
        "cc656f7ea3164a31b1d8a926dd238d83": {
          "model_module": "@jupyter-widgets/base",
          "model_name": "LayoutModel",
          "model_module_version": "1.2.0",
          "state": {
            "_model_module": "@jupyter-widgets/base",
            "_model_module_version": "1.2.0",
            "_model_name": "LayoutModel",
            "_view_count": null,
            "_view_module": "@jupyter-widgets/base",
            "_view_module_version": "1.2.0",
            "_view_name": "LayoutView",
            "align_content": null,
            "align_items": null,
            "align_self": null,
            "border": null,
            "bottom": null,
            "display": null,
            "flex": null,
            "flex_flow": null,
            "grid_area": null,
            "grid_auto_columns": null,
            "grid_auto_flow": null,
            "grid_auto_rows": null,
            "grid_column": null,
            "grid_gap": null,
            "grid_row": null,
            "grid_template_areas": null,
            "grid_template_columns": null,
            "grid_template_rows": null,
            "height": null,
            "justify_content": null,
            "justify_items": null,
            "left": null,
            "margin": null,
            "max_height": null,
            "max_width": null,
            "min_height": null,
            "min_width": null,
            "object_fit": null,
            "object_position": null,
            "order": null,
            "overflow": null,
            "overflow_x": null,
            "overflow_y": null,
            "padding": null,
            "right": null,
            "top": null,
            "visibility": null,
            "width": null
          }
        },
        "df6c8fea3d33464d92fd4df1c7197ded": {
          "model_module": "@jupyter-widgets/controls",
          "model_name": "ProgressStyleModel",
          "model_module_version": "1.5.0",
          "state": {
            "_model_module": "@jupyter-widgets/controls",
            "_model_module_version": "1.5.0",
            "_model_name": "ProgressStyleModel",
            "_view_count": null,
            "_view_module": "@jupyter-widgets/base",
            "_view_module_version": "1.2.0",
            "_view_name": "StyleView",
            "bar_color": null,
            "description_width": ""
          }
        },
        "bfa3d86b0d12475eb4009bffbe3608ba": {
          "model_module": "@jupyter-widgets/base",
          "model_name": "LayoutModel",
          "model_module_version": "1.2.0",
          "state": {
            "_model_module": "@jupyter-widgets/base",
            "_model_module_version": "1.2.0",
            "_model_name": "LayoutModel",
            "_view_count": null,
            "_view_module": "@jupyter-widgets/base",
            "_view_module_version": "1.2.0",
            "_view_name": "LayoutView",
            "align_content": null,
            "align_items": null,
            "align_self": null,
            "border": null,
            "bottom": null,
            "display": null,
            "flex": null,
            "flex_flow": null,
            "grid_area": null,
            "grid_auto_columns": null,
            "grid_auto_flow": null,
            "grid_auto_rows": null,
            "grid_column": null,
            "grid_gap": null,
            "grid_row": null,
            "grid_template_areas": null,
            "grid_template_columns": null,
            "grid_template_rows": null,
            "height": null,
            "justify_content": null,
            "justify_items": null,
            "left": null,
            "margin": null,
            "max_height": null,
            "max_width": null,
            "min_height": null,
            "min_width": null,
            "object_fit": null,
            "object_position": null,
            "order": null,
            "overflow": null,
            "overflow_x": null,
            "overflow_y": null,
            "padding": null,
            "right": null,
            "top": null,
            "visibility": null,
            "width": null
          }
        },
        "01d44be212c3463aa92d32dfff7b07bc": {
          "model_module": "@jupyter-widgets/controls",
          "model_name": "DescriptionStyleModel",
          "model_module_version": "1.5.0",
          "state": {
            "_model_module": "@jupyter-widgets/controls",
            "_model_module_version": "1.5.0",
            "_model_name": "DescriptionStyleModel",
            "_view_count": null,
            "_view_module": "@jupyter-widgets/base",
            "_view_module_version": "1.2.0",
            "_view_name": "StyleView",
            "description_width": ""
          }
        },
        "6b6c5b02a97045b89cacee8f733ae2c5": {
          "model_module": "@jupyter-widgets/controls",
          "model_name": "HBoxModel",
          "model_module_version": "1.5.0",
          "state": {
            "_dom_classes": [],
            "_model_module": "@jupyter-widgets/controls",
            "_model_module_version": "1.5.0",
            "_model_name": "HBoxModel",
            "_view_count": null,
            "_view_module": "@jupyter-widgets/controls",
            "_view_module_version": "1.5.0",
            "_view_name": "HBoxView",
            "box_style": "",
            "children": [
              "IPY_MODEL_6ad26799c6944642bb3c61b6a7f4f0cf",
              "IPY_MODEL_91acb02ccfb145dabe4edfb5bf8838a7",
              "IPY_MODEL_30bbe2157e31468e8e56063139514c68"
            ],
            "layout": "IPY_MODEL_97a00b9e07ef4b22aab5143fc6042831"
          }
        },
        "6ad26799c6944642bb3c61b6a7f4f0cf": {
          "model_module": "@jupyter-widgets/controls",
          "model_name": "HTMLModel",
          "model_module_version": "1.5.0",
          "state": {
            "_dom_classes": [],
            "_model_module": "@jupyter-widgets/controls",
            "_model_module_version": "1.5.0",
            "_model_name": "HTMLModel",
            "_view_count": null,
            "_view_module": "@jupyter-widgets/controls",
            "_view_module_version": "1.5.0",
            "_view_name": "HTMLView",
            "description": "",
            "description_tooltip": null,
            "layout": "IPY_MODEL_e0f1653adbde44a79de35ab172950c5b",
            "placeholder": "​",
            "style": "IPY_MODEL_67d24e81257a45b9b39497a0977751fa",
            "value": "special_tokens_map.json: 100%"
          }
        },
        "91acb02ccfb145dabe4edfb5bf8838a7": {
          "model_module": "@jupyter-widgets/controls",
          "model_name": "FloatProgressModel",
          "model_module_version": "1.5.0",
          "state": {
            "_dom_classes": [],
            "_model_module": "@jupyter-widgets/controls",
            "_model_module_version": "1.5.0",
            "_model_name": "FloatProgressModel",
            "_view_count": null,
            "_view_module": "@jupyter-widgets/controls",
            "_view_module_version": "1.5.0",
            "_view_name": "ProgressView",
            "bar_style": "success",
            "description": "",
            "description_tooltip": null,
            "layout": "IPY_MODEL_47d4902fb0cb48419005c3b685a01133",
            "max": 112,
            "min": 0,
            "orientation": "horizontal",
            "style": "IPY_MODEL_64c1fb9fe62e417393d1e5cc217b3327",
            "value": 112
          }
        },
        "30bbe2157e31468e8e56063139514c68": {
          "model_module": "@jupyter-widgets/controls",
          "model_name": "HTMLModel",
          "model_module_version": "1.5.0",
          "state": {
            "_dom_classes": [],
            "_model_module": "@jupyter-widgets/controls",
            "_model_module_version": "1.5.0",
            "_model_name": "HTMLModel",
            "_view_count": null,
            "_view_module": "@jupyter-widgets/controls",
            "_view_module_version": "1.5.0",
            "_view_name": "HTMLView",
            "description": "",
            "description_tooltip": null,
            "layout": "IPY_MODEL_b613375389174eb0b5ec2ce58af66625",
            "placeholder": "​",
            "style": "IPY_MODEL_3b21f85244a74cdfabb06f8bccd248f4",
            "value": " 112/112 [00:00&lt;00:00, 2.36kB/s]"
          }
        },
        "97a00b9e07ef4b22aab5143fc6042831": {
          "model_module": "@jupyter-widgets/base",
          "model_name": "LayoutModel",
          "model_module_version": "1.2.0",
          "state": {
            "_model_module": "@jupyter-widgets/base",
            "_model_module_version": "1.2.0",
            "_model_name": "LayoutModel",
            "_view_count": null,
            "_view_module": "@jupyter-widgets/base",
            "_view_module_version": "1.2.0",
            "_view_name": "LayoutView",
            "align_content": null,
            "align_items": null,
            "align_self": null,
            "border": null,
            "bottom": null,
            "display": null,
            "flex": null,
            "flex_flow": null,
            "grid_area": null,
            "grid_auto_columns": null,
            "grid_auto_flow": null,
            "grid_auto_rows": null,
            "grid_column": null,
            "grid_gap": null,
            "grid_row": null,
            "grid_template_areas": null,
            "grid_template_columns": null,
            "grid_template_rows": null,
            "height": null,
            "justify_content": null,
            "justify_items": null,
            "left": null,
            "margin": null,
            "max_height": null,
            "max_width": null,
            "min_height": null,
            "min_width": null,
            "object_fit": null,
            "object_position": null,
            "order": null,
            "overflow": null,
            "overflow_x": null,
            "overflow_y": null,
            "padding": null,
            "right": null,
            "top": null,
            "visibility": null,
            "width": null
          }
        },
        "e0f1653adbde44a79de35ab172950c5b": {
          "model_module": "@jupyter-widgets/base",
          "model_name": "LayoutModel",
          "model_module_version": "1.2.0",
          "state": {
            "_model_module": "@jupyter-widgets/base",
            "_model_module_version": "1.2.0",
            "_model_name": "LayoutModel",
            "_view_count": null,
            "_view_module": "@jupyter-widgets/base",
            "_view_module_version": "1.2.0",
            "_view_name": "LayoutView",
            "align_content": null,
            "align_items": null,
            "align_self": null,
            "border": null,
            "bottom": null,
            "display": null,
            "flex": null,
            "flex_flow": null,
            "grid_area": null,
            "grid_auto_columns": null,
            "grid_auto_flow": null,
            "grid_auto_rows": null,
            "grid_column": null,
            "grid_gap": null,
            "grid_row": null,
            "grid_template_areas": null,
            "grid_template_columns": null,
            "grid_template_rows": null,
            "height": null,
            "justify_content": null,
            "justify_items": null,
            "left": null,
            "margin": null,
            "max_height": null,
            "max_width": null,
            "min_height": null,
            "min_width": null,
            "object_fit": null,
            "object_position": null,
            "order": null,
            "overflow": null,
            "overflow_x": null,
            "overflow_y": null,
            "padding": null,
            "right": null,
            "top": null,
            "visibility": null,
            "width": null
          }
        },
        "67d24e81257a45b9b39497a0977751fa": {
          "model_module": "@jupyter-widgets/controls",
          "model_name": "DescriptionStyleModel",
          "model_module_version": "1.5.0",
          "state": {
            "_model_module": "@jupyter-widgets/controls",
            "_model_module_version": "1.5.0",
            "_model_name": "DescriptionStyleModel",
            "_view_count": null,
            "_view_module": "@jupyter-widgets/base",
            "_view_module_version": "1.2.0",
            "_view_name": "StyleView",
            "description_width": ""
          }
        },
        "47d4902fb0cb48419005c3b685a01133": {
          "model_module": "@jupyter-widgets/base",
          "model_name": "LayoutModel",
          "model_module_version": "1.2.0",
          "state": {
            "_model_module": "@jupyter-widgets/base",
            "_model_module_version": "1.2.0",
            "_model_name": "LayoutModel",
            "_view_count": null,
            "_view_module": "@jupyter-widgets/base",
            "_view_module_version": "1.2.0",
            "_view_name": "LayoutView",
            "align_content": null,
            "align_items": null,
            "align_self": null,
            "border": null,
            "bottom": null,
            "display": null,
            "flex": null,
            "flex_flow": null,
            "grid_area": null,
            "grid_auto_columns": null,
            "grid_auto_flow": null,
            "grid_auto_rows": null,
            "grid_column": null,
            "grid_gap": null,
            "grid_row": null,
            "grid_template_areas": null,
            "grid_template_columns": null,
            "grid_template_rows": null,
            "height": null,
            "justify_content": null,
            "justify_items": null,
            "left": null,
            "margin": null,
            "max_height": null,
            "max_width": null,
            "min_height": null,
            "min_width": null,
            "object_fit": null,
            "object_position": null,
            "order": null,
            "overflow": null,
            "overflow_x": null,
            "overflow_y": null,
            "padding": null,
            "right": null,
            "top": null,
            "visibility": null,
            "width": null
          }
        },
        "64c1fb9fe62e417393d1e5cc217b3327": {
          "model_module": "@jupyter-widgets/controls",
          "model_name": "ProgressStyleModel",
          "model_module_version": "1.5.0",
          "state": {
            "_model_module": "@jupyter-widgets/controls",
            "_model_module_version": "1.5.0",
            "_model_name": "ProgressStyleModel",
            "_view_count": null,
            "_view_module": "@jupyter-widgets/base",
            "_view_module_version": "1.2.0",
            "_view_name": "StyleView",
            "bar_color": null,
            "description_width": ""
          }
        },
        "b613375389174eb0b5ec2ce58af66625": {
          "model_module": "@jupyter-widgets/base",
          "model_name": "LayoutModel",
          "model_module_version": "1.2.0",
          "state": {
            "_model_module": "@jupyter-widgets/base",
            "_model_module_version": "1.2.0",
            "_model_name": "LayoutModel",
            "_view_count": null,
            "_view_module": "@jupyter-widgets/base",
            "_view_module_version": "1.2.0",
            "_view_name": "LayoutView",
            "align_content": null,
            "align_items": null,
            "align_self": null,
            "border": null,
            "bottom": null,
            "display": null,
            "flex": null,
            "flex_flow": null,
            "grid_area": null,
            "grid_auto_columns": null,
            "grid_auto_flow": null,
            "grid_auto_rows": null,
            "grid_column": null,
            "grid_gap": null,
            "grid_row": null,
            "grid_template_areas": null,
            "grid_template_columns": null,
            "grid_template_rows": null,
            "height": null,
            "justify_content": null,
            "justify_items": null,
            "left": null,
            "margin": null,
            "max_height": null,
            "max_width": null,
            "min_height": null,
            "min_width": null,
            "object_fit": null,
            "object_position": null,
            "order": null,
            "overflow": null,
            "overflow_x": null,
            "overflow_y": null,
            "padding": null,
            "right": null,
            "top": null,
            "visibility": null,
            "width": null
          }
        },
        "3b21f85244a74cdfabb06f8bccd248f4": {
          "model_module": "@jupyter-widgets/controls",
          "model_name": "DescriptionStyleModel",
          "model_module_version": "1.5.0",
          "state": {
            "_model_module": "@jupyter-widgets/controls",
            "_model_module_version": "1.5.0",
            "_model_name": "DescriptionStyleModel",
            "_view_count": null,
            "_view_module": "@jupyter-widgets/base",
            "_view_module_version": "1.2.0",
            "_view_name": "StyleView",
            "description_width": ""
          }
        },
        "96ae70e42b9e4b80b7b2ebe9fcd7ddfa": {
          "model_module": "@jupyter-widgets/controls",
          "model_name": "HBoxModel",
          "model_module_version": "1.5.0",
          "state": {
            "_dom_classes": [],
            "_model_module": "@jupyter-widgets/controls",
            "_model_module_version": "1.5.0",
            "_model_name": "HBoxModel",
            "_view_count": null,
            "_view_module": "@jupyter-widgets/controls",
            "_view_module_version": "1.5.0",
            "_view_name": "HBoxView",
            "box_style": "",
            "children": [
              "IPY_MODEL_a615081f7292443ba974cecb16acb7c7",
              "IPY_MODEL_c2a171170fd249d09f62044e1dd9745a",
              "IPY_MODEL_9555eb4d32284a0e8fb61e064f50a0c9"
            ],
            "layout": "IPY_MODEL_b1013b6483944a87a51553228468386e"
          }
        },
        "a615081f7292443ba974cecb16acb7c7": {
          "model_module": "@jupyter-widgets/controls",
          "model_name": "HTMLModel",
          "model_module_version": "1.5.0",
          "state": {
            "_dom_classes": [],
            "_model_module": "@jupyter-widgets/controls",
            "_model_module_version": "1.5.0",
            "_model_name": "HTMLModel",
            "_view_count": null,
            "_view_module": "@jupyter-widgets/controls",
            "_view_module_version": "1.5.0",
            "_view_name": "HTMLView",
            "description": "",
            "description_tooltip": null,
            "layout": "IPY_MODEL_04290aa103dd4dcfa648ae4542280312",
            "placeholder": "​",
            "style": "IPY_MODEL_6cdb1acc80fa4235b46917163c785424",
            "value": "config.json: 100%"
          }
        },
        "c2a171170fd249d09f62044e1dd9745a": {
          "model_module": "@jupyter-widgets/controls",
          "model_name": "FloatProgressModel",
          "model_module_version": "1.5.0",
          "state": {
            "_dom_classes": [],
            "_model_module": "@jupyter-widgets/controls",
            "_model_module_version": "1.5.0",
            "_model_name": "FloatProgressModel",
            "_view_count": null,
            "_view_module": "@jupyter-widgets/controls",
            "_view_module_version": "1.5.0",
            "_view_name": "ProgressView",
            "bar_style": "success",
            "description": "",
            "description_tooltip": null,
            "layout": "IPY_MODEL_e7d731c252b548269d05415215b53e8b",
            "max": 647,
            "min": 0,
            "orientation": "horizontal",
            "style": "IPY_MODEL_f49534d9fc3045a8b78a7409cbb541d1",
            "value": 647
          }
        },
        "9555eb4d32284a0e8fb61e064f50a0c9": {
          "model_module": "@jupyter-widgets/controls",
          "model_name": "HTMLModel",
          "model_module_version": "1.5.0",
          "state": {
            "_dom_classes": [],
            "_model_module": "@jupyter-widgets/controls",
            "_model_module_version": "1.5.0",
            "_model_name": "HTMLModel",
            "_view_count": null,
            "_view_module": "@jupyter-widgets/controls",
            "_view_module_version": "1.5.0",
            "_view_name": "HTMLView",
            "description": "",
            "description_tooltip": null,
            "layout": "IPY_MODEL_82e0de1fa8fc4e55ad913c7c496e3d93",
            "placeholder": "​",
            "style": "IPY_MODEL_cbc1153832e045738c6a51b3e0d34e34",
            "value": " 647/647 [00:00&lt;00:00, 27.4kB/s]"
          }
        },
        "b1013b6483944a87a51553228468386e": {
          "model_module": "@jupyter-widgets/base",
          "model_name": "LayoutModel",
          "model_module_version": "1.2.0",
          "state": {
            "_model_module": "@jupyter-widgets/base",
            "_model_module_version": "1.2.0",
            "_model_name": "LayoutModel",
            "_view_count": null,
            "_view_module": "@jupyter-widgets/base",
            "_view_module_version": "1.2.0",
            "_view_name": "LayoutView",
            "align_content": null,
            "align_items": null,
            "align_self": null,
            "border": null,
            "bottom": null,
            "display": null,
            "flex": null,
            "flex_flow": null,
            "grid_area": null,
            "grid_auto_columns": null,
            "grid_auto_flow": null,
            "grid_auto_rows": null,
            "grid_column": null,
            "grid_gap": null,
            "grid_row": null,
            "grid_template_areas": null,
            "grid_template_columns": null,
            "grid_template_rows": null,
            "height": null,
            "justify_content": null,
            "justify_items": null,
            "left": null,
            "margin": null,
            "max_height": null,
            "max_width": null,
            "min_height": null,
            "min_width": null,
            "object_fit": null,
            "object_position": null,
            "order": null,
            "overflow": null,
            "overflow_x": null,
            "overflow_y": null,
            "padding": null,
            "right": null,
            "top": null,
            "visibility": null,
            "width": null
          }
        },
        "04290aa103dd4dcfa648ae4542280312": {
          "model_module": "@jupyter-widgets/base",
          "model_name": "LayoutModel",
          "model_module_version": "1.2.0",
          "state": {
            "_model_module": "@jupyter-widgets/base",
            "_model_module_version": "1.2.0",
            "_model_name": "LayoutModel",
            "_view_count": null,
            "_view_module": "@jupyter-widgets/base",
            "_view_module_version": "1.2.0",
            "_view_name": "LayoutView",
            "align_content": null,
            "align_items": null,
            "align_self": null,
            "border": null,
            "bottom": null,
            "display": null,
            "flex": null,
            "flex_flow": null,
            "grid_area": null,
            "grid_auto_columns": null,
            "grid_auto_flow": null,
            "grid_auto_rows": null,
            "grid_column": null,
            "grid_gap": null,
            "grid_row": null,
            "grid_template_areas": null,
            "grid_template_columns": null,
            "grid_template_rows": null,
            "height": null,
            "justify_content": null,
            "justify_items": null,
            "left": null,
            "margin": null,
            "max_height": null,
            "max_width": null,
            "min_height": null,
            "min_width": null,
            "object_fit": null,
            "object_position": null,
            "order": null,
            "overflow": null,
            "overflow_x": null,
            "overflow_y": null,
            "padding": null,
            "right": null,
            "top": null,
            "visibility": null,
            "width": null
          }
        },
        "6cdb1acc80fa4235b46917163c785424": {
          "model_module": "@jupyter-widgets/controls",
          "model_name": "DescriptionStyleModel",
          "model_module_version": "1.5.0",
          "state": {
            "_model_module": "@jupyter-widgets/controls",
            "_model_module_version": "1.5.0",
            "_model_name": "DescriptionStyleModel",
            "_view_count": null,
            "_view_module": "@jupyter-widgets/base",
            "_view_module_version": "1.2.0",
            "_view_name": "StyleView",
            "description_width": ""
          }
        },
        "e7d731c252b548269d05415215b53e8b": {
          "model_module": "@jupyter-widgets/base",
          "model_name": "LayoutModel",
          "model_module_version": "1.2.0",
          "state": {
            "_model_module": "@jupyter-widgets/base",
            "_model_module_version": "1.2.0",
            "_model_name": "LayoutModel",
            "_view_count": null,
            "_view_module": "@jupyter-widgets/base",
            "_view_module_version": "1.2.0",
            "_view_name": "LayoutView",
            "align_content": null,
            "align_items": null,
            "align_self": null,
            "border": null,
            "bottom": null,
            "display": null,
            "flex": null,
            "flex_flow": null,
            "grid_area": null,
            "grid_auto_columns": null,
            "grid_auto_flow": null,
            "grid_auto_rows": null,
            "grid_column": null,
            "grid_gap": null,
            "grid_row": null,
            "grid_template_areas": null,
            "grid_template_columns": null,
            "grid_template_rows": null,
            "height": null,
            "justify_content": null,
            "justify_items": null,
            "left": null,
            "margin": null,
            "max_height": null,
            "max_width": null,
            "min_height": null,
            "min_width": null,
            "object_fit": null,
            "object_position": null,
            "order": null,
            "overflow": null,
            "overflow_x": null,
            "overflow_y": null,
            "padding": null,
            "right": null,
            "top": null,
            "visibility": null,
            "width": null
          }
        },
        "f49534d9fc3045a8b78a7409cbb541d1": {
          "model_module": "@jupyter-widgets/controls",
          "model_name": "ProgressStyleModel",
          "model_module_version": "1.5.0",
          "state": {
            "_model_module": "@jupyter-widgets/controls",
            "_model_module_version": "1.5.0",
            "_model_name": "ProgressStyleModel",
            "_view_count": null,
            "_view_module": "@jupyter-widgets/base",
            "_view_module_version": "1.2.0",
            "_view_name": "StyleView",
            "bar_color": null,
            "description_width": ""
          }
        },
        "82e0de1fa8fc4e55ad913c7c496e3d93": {
          "model_module": "@jupyter-widgets/base",
          "model_name": "LayoutModel",
          "model_module_version": "1.2.0",
          "state": {
            "_model_module": "@jupyter-widgets/base",
            "_model_module_version": "1.2.0",
            "_model_name": "LayoutModel",
            "_view_count": null,
            "_view_module": "@jupyter-widgets/base",
            "_view_module_version": "1.2.0",
            "_view_name": "LayoutView",
            "align_content": null,
            "align_items": null,
            "align_self": null,
            "border": null,
            "bottom": null,
            "display": null,
            "flex": null,
            "flex_flow": null,
            "grid_area": null,
            "grid_auto_columns": null,
            "grid_auto_flow": null,
            "grid_auto_rows": null,
            "grid_column": null,
            "grid_gap": null,
            "grid_row": null,
            "grid_template_areas": null,
            "grid_template_columns": null,
            "grid_template_rows": null,
            "height": null,
            "justify_content": null,
            "justify_items": null,
            "left": null,
            "margin": null,
            "max_height": null,
            "max_width": null,
            "min_height": null,
            "min_width": null,
            "object_fit": null,
            "object_position": null,
            "order": null,
            "overflow": null,
            "overflow_x": null,
            "overflow_y": null,
            "padding": null,
            "right": null,
            "top": null,
            "visibility": null,
            "width": null
          }
        },
        "cbc1153832e045738c6a51b3e0d34e34": {
          "model_module": "@jupyter-widgets/controls",
          "model_name": "DescriptionStyleModel",
          "model_module_version": "1.5.0",
          "state": {
            "_model_module": "@jupyter-widgets/controls",
            "_model_module_version": "1.5.0",
            "_model_name": "DescriptionStyleModel",
            "_view_count": null,
            "_view_module": "@jupyter-widgets/base",
            "_view_module_version": "1.2.0",
            "_view_name": "StyleView",
            "description_width": ""
          }
        }
      }
    }
  },
  "nbformat": 4,
  "nbformat_minor": 0
}