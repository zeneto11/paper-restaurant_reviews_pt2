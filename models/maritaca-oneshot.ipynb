{
 "cells": [
  {
   "cell_type": "code",
   "execution_count": 18,
   "metadata": {},
   "outputs": [],
   "source": [
    "import logging\n",
    "import os\n",
    "import time\n",
    "from datetime import datetime\n",
    "import maritalk\n",
    "import pandas as pd\n",
    "from dotenv import load_dotenv"
   ]
  },
  {
   "cell_type": "code",
   "execution_count": 19,
   "metadata": {},
   "outputs": [],
   "source": [
    "load_dotenv()\n",
    "\n",
    "name = 'oneshot-teste1'\n",
    "pathDataset = '../datasets/dataset-maritaca-oneshot-teste1.csv'\n",
    "chave = os.getenv('MARITAKA_KEY')\n",
    "model_engine = \"sabia-2-medium\""
   ]
  },
  {
   "cell_type": "code",
   "execution_count": 20,
   "metadata": {},
   "outputs": [],
   "source": [
    "logging.basicConfig(filename=f'./logs/maritaca-{name}.log', level=logging.INFO, encoding='utf8')\n",
    "logging.info(f'LOG DO DIA {datetime.now()}')\n",
    "logging.info(f'TESTANDO O DATASET {pathDataset}')"
   ]
  },
  {
   "cell_type": "code",
   "execution_count": 21,
   "metadata": {},
   "outputs": [
    {
     "name": "stdout",
     "output_type": "stream",
     "text": [
      "Quantidade de comentários: 4000\n"
     ]
    }
   ],
   "source": [
    "df_maritaca = pd.read_csv(pathDataset)\n",
    "\n",
    "size = len(df_maritaca)\n",
    "print ('Quantidade de comentários:', size)"
   ]
  },
  {
   "cell_type": "code",
   "execution_count": 29,
   "metadata": {},
   "outputs": [],
   "source": [
    "for i in range(3500, 4000):\n",
    "    sentence = df_maritaca['sentenca'][i]\n",
    "    prompt= f'''Você é um especialista em restaurantes. A partir de um comentário contendo a opinião de um cliente sobre um restaurante, identifique os seguintes temas contidos nesse comentário:\n",
    "                serviço: Representa sentenças relacionadas às atitudes dos atendentes, presteza, interação com o gerente ou atraso. Exemplo: \"O serviço no restaurante foi excepcional, com atendentes que demonstravam um entusiasmo genuíno e a gerência presente, sempre atenta às necessidades dos clientes, proporcionando uma experiência agradável e sem atrasos.\"\n",
    "                bebida: Representa sentenças relacionadas a cerveja, vinho, drinks, cafés entre outras bebidas do restaurante. Exemplo: \"A cerveja estava extremamente gelada e o vinho possuía uma excelente qualidade, o que tornou a experiência no restaurante ainda mais agradável.\"\n",
    "                ambiente: Representa sentenças relacionadas a decoração, interior, música, espaço, iluminação ou lotação. Exemplo: \"O ambiente do restaurante era acolhedor, com uma decoração rústica e aconchegante, música suave ao fundo, espaço bem distribuído e iluminação adequada, proporcionando um clima ideal para uma refeição tranquila.\"  \n",
    "                comida: Representa sentenças relacionadas à alimentação,  sobremesa, cardápio, rodízio, sabor da comida ou pratos. Exemplo: \"A comida estava deliciosa, com sabores autênticos e pratos bem apresentados, tornando a experiência gastronômica memorável.\"\n",
    "                localização: Representa sentenças relacionadas ao transporte ou o acesso ao restaurante, estacionamento, entre outros. Exemplo: \"O restaurante está situado em um local privilegiado, com fácil acesso por diversas linhas de transporte público e conta com um estacionamento próprio amplo, o que é um grande atrativo para quem prefere ir de carro.\"\n",
    "                preço: Representa sentenças relacionadas ao custo do serviço ou dos produtos dos restaurantes. Exemplo: \"Os preços dos pratos são justos, considerando a qualidade e a quantidade do que é oferecido.\"\n",
    "                geral: Representa sentenças relacionadas à uma visão abrangente do restaurante como um todo, sem se concentrar em características específicas, como comida, serviço ou ambiente. Esses comentários expressam uma opinião geral sobre o restaurante, sem levar em consideração aspectos particulares. Exemplo: \"Eu gostaria de expressar minha satisfação geral com a experiência no restaurante; desde a chegada até a saída, tudo foi muito agradável e bem organizado.\"\n",
    "                outros: Representa sentenças relacionadas que não se encaixam em nenhum tema citado anteriormente.\n",
    "\n",
    "                Note que uma sentença pode conter mais de um tema identificado.\n",
    "\n",
    "                Retorne uma saída contendo APENAS os nomes dos temas identificados na sentença.\n",
    "                Exemplo \n",
    "                Entrada: <FRASE>\n",
    "                comida, bebida, serviço\n",
    "\n",
    "                Analise a frase: '{sentence}' '''\n",
    "    \n",
    "    try:\n",
    "        model = maritalk.MariTalk(\n",
    "            key=chave,\n",
    "            model=model_engine  # No momento, suportamos os modelos sabia-2-medium e sabia-2-small\n",
    "        )\n",
    "    except:\n",
    "        time.sleep(15)\n",
    "        model = maritalk.MariTalk(\n",
    "            key=chave,\n",
    "            model=model_engine  # No momento, suportamos os modelos sabia-2-medium e sabia-2-small\n",
    "        )\n",
    "        \n",
    "    fullResponse = model.generate(prompt)\n",
    "    response = fullResponse['answer'].replace('.', '').lower().strip()\n",
    "\n",
    "    # Atualizar o dataset novo com os temas identificados\n",
    "    df_maritaca.loc[i, 'categoria_maritaka'] = response\n",
    "\n",
    "    logging.info('SENTENÇA: ' + sentence)\n",
    "    logging.info('CHAT: ', fullResponse)\n",
    "    logging.info('RESPONSE: ' + response)\n",
    "    \n",
    "    # Salvar o dataframe atualizado com as categorias identificadas\n",
    "    df_maritaca.to_csv(f'../datasets/dataset-maritaca-{name}.csv', index=False)\n",
    "    \n",
    "    time.sleep(3)\n",
    "    \n"
   ]
  },
  {
   "cell_type": "code",
   "execution_count": 23,
   "metadata": {},
   "outputs": [
    {
     "data": {
      "text/html": [
       "<div>\n",
       "<style scoped>\n",
       "    .dataframe tbody tr th:only-of-type {\n",
       "        vertical-align: middle;\n",
       "    }\n",
       "\n",
       "    .dataframe tbody tr th {\n",
       "        vertical-align: top;\n",
       "    }\n",
       "\n",
       "    .dataframe thead th {\n",
       "        text-align: right;\n",
       "    }\n",
       "</style>\n",
       "<table border=\"1\" class=\"dataframe\">\n",
       "  <thead>\n",
       "    <tr style=\"text-align: right;\">\n",
       "      <th></th>\n",
       "      <th>sentenca</th>\n",
       "      <th>categoria_maritaka</th>\n",
       "    </tr>\n",
       "  </thead>\n",
       "  <tbody>\n",
       "    <tr>\n",
       "      <th>3571</th>\n",
       "      <td>E ainda tem uma brinquedoteca espetacular, por...</td>\n",
       "      <td>NaN</td>\n",
       "    </tr>\n",
       "  </tbody>\n",
       "</table>\n",
       "</div>"
      ],
      "text/plain": [
       "                                               sentenca categoria_maritaka\n",
       "3571  E ainda tem uma brinquedoteca espetacular, por...                NaN"
      ]
     },
     "execution_count": 23,
     "metadata": {},
     "output_type": "execute_result"
    }
   ],
   "source": [
    "sentenca = 'E ainda tem uma brinquedoteca espetacular, por isso as crianças adoram ir lá.'\n",
    "linha = df_maritaca.loc[df_maritaca['sentenca'] == sentenca]\n",
    "linha"
   ]
  }
 ],
 "metadata": {
  "kernelspec": {
   "display_name": "venv",
   "language": "python",
   "name": "python3"
  },
  "language_info": {
   "codemirror_mode": {
    "name": "ipython",
    "version": 3
   },
   "file_extension": ".py",
   "mimetype": "text/x-python",
   "name": "python",
   "nbconvert_exporter": "python",
   "pygments_lexer": "ipython3",
   "version": "3.11.4"
  }
 },
 "nbformat": 4,
 "nbformat_minor": 2
}
