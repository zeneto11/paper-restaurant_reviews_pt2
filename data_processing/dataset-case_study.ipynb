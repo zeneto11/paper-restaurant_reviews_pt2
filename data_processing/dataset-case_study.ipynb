{
 "cells": [
  {
   "cell_type": "code",
   "execution_count": 110,
   "metadata": {},
   "outputs": [],
   "source": [
    "import pandas as pd"
   ]
  },
  {
   "cell_type": "code",
   "execution_count": 111,
   "metadata": {},
   "outputs": [
    {
     "name": "stdout",
     "output_type": "stream",
     "text": [
      "(5933, 9)\n",
      "Index(['restaurante_name', 'user_name', 'review_date', 'stars', 'comment_text',\n",
      "       'year', 'platform', 'language', 'comment_text_translated'],\n",
      "      dtype='object')\n",
      "\n",
      "Distribuição por plataforma: platform\n",
      "Google             3917\n",
      "Facebook            847\n",
      "Foursquare          834\n",
      "Yelp                310\n",
      "Zomato               24\n",
      "Restaurant Guru       1\n",
      "Name: count, dtype: int64\n",
      "\n",
      "Distribuição por ano: year\n",
      "2023       1247\n",
      "2018        796\n",
      "2017        667\n",
      "2019        645\n",
      "2022        515\n",
      "2024        506\n",
      "2020        475\n",
      "2016        358\n",
      "2015        325\n",
      "2021        256\n",
      "Unknown     126\n",
      "2014         17\n",
      "Name: count, dtype: int64\n"
     ]
    }
   ],
   "source": [
    "# Carregar dataset\n",
    "df = pd.read_csv('../datasets/dataset-case_study.csv')\n",
    "\n",
    "# Informações sobre o conjunto de dados\n",
    "print(df.shape)\n",
    "print(df.columns)\n",
    "\n",
    "# Contar quantas linhas tem para cada plataforma\n",
    "platform_counts = df['platform'].value_counts()\n",
    "print(\"\\nDistribuição por plataforma:\", platform_counts)\n",
    "\n",
    "# Contar quantas linhas tem para cada plataforma\n",
    "year_counts = df['year'].value_counts()\n",
    "print(\"\\nDistribuição por ano:\", year_counts)"
   ]
  },
  {
   "cell_type": "code",
   "execution_count": 112,
   "metadata": {},
   "outputs": [
    {
     "name": "stdout",
     "output_type": "stream",
     "text": [
      "\n",
      "Linhas com valores nulos:\n",
      " 0\n",
      "Removendo comentários nulos...\n",
      "\n",
      "Total de comentários duplicados: 940\n",
      "Removendo comentários duplicados...\n",
      "\n"
     ]
    }
   ],
   "source": [
    "# Remover ocorrências de erros\n",
    "df['comment_text_translated'] = df['comment_text_translated'].str.replace('Comida: 5', '')\n",
    "df['comment_text_translated'] = df['comment_text_translated'].str.replace('Comida: 4', '')\n",
    "df['comment_text_translated'] = df['comment_text_translated'].str.replace('Serviço: 5', '')\n",
    "df['comment_text_translated'] = df['comment_text_translated'].str.replace('Serviço: 4', '')\n",
    "df['comment_text_translated'] = df['comment_text_translated'].str.replace('Atmosfera: 5', '')\n",
    "df['comment_text_translated'] = df['comment_text_translated'].str.replace('Atmosfera: 4', '')\n",
    "df['comment_text_translated'] = df['comment_text_translated'].str.replace('comida: 5', '')\n",
    "df['comment_text_translated'] = df['comment_text_translated'].str.replace('comida: 4', '')\n",
    "df['comment_text_translated'] = df['comment_text_translated'].str.replace('serviço: 5', '')\n",
    "df['comment_text_translated'] = df['comment_text_translated'].str.replace('serviço: 4', '')\n",
    "df['comment_text_translated'] = df['comment_text_translated'].str.replace('atmosfera: 5', '')\n",
    "df['comment_text_translated'] = df['comment_text_translated'].str.replace('atmosfera: 4', '')\n",
    "\n",
    "# Realizar strip\n",
    "df['comment_text_translated'] = df['comment_text_translated'].astype(str).apply(lambda x: x.strip())\n",
    "\n",
    "# Remover sentenças nulas\n",
    "print(\"\\nLinhas com valores nulos:\\n\", df['comment_text_translated'].isnull().sum())\n",
    "print('Removendo comentários nulos...')\n",
    "df = df.dropna(subset=['comment_text_translated']).reset_index(drop=True)\n",
    "\n",
    "# Remover sentenças duplicadas\n",
    "comentarios_duplicados = df.duplicated(subset=\"comment_text_translated\").sum()\n",
    "print(\"\\nTotal de comentários duplicados:\", comentarios_duplicados)\n",
    "print('Removendo comentários duplicados...\\n')\n",
    "df = df.drop_duplicates(subset=\"comment_text_translated\", keep='first').reset_index(drop=True)"
   ]
  },
  {
   "cell_type": "code",
   "execution_count": 113,
   "metadata": {},
   "outputs": [
    {
     "name": "stdout",
     "output_type": "stream",
     "text": [
      "(4993, 9)\n",
      "\n",
      "Distribuição por plataforma: platform\n",
      "Google             3243\n",
      "Foursquare          731\n",
      "Facebook            711\n",
      "Yelp                285\n",
      "Zomato               22\n",
      "Restaurant Guru       1\n",
      "Name: count, dtype: int64\n",
      "\n",
      "Distribuição por ano: year\n",
      "2023       960\n",
      "2018       699\n",
      "2017       596\n",
      "2019       563\n",
      "2022       492\n",
      "2020       439\n",
      "2016       321\n",
      "2024       316\n",
      "2015       267\n",
      "2021       239\n",
      "Unknown     85\n",
      "2014        16\n",
      "Name: count, dtype: int64\n"
     ]
    }
   ],
   "source": [
    "# Informações sobre o conjunto de dados\n",
    "print(df.shape)\n",
    "\n",
    "# Contar quantas linhas tem para cada plataforma\n",
    "platform_counts = df['platform'].value_counts()\n",
    "print(\"\\nDistribuição por plataforma:\", platform_counts)\n",
    "\n",
    "# Contar quantas linhas tem para cada plataforma\n",
    "year_counts = df['year'].value_counts()\n",
    "print(\"\\nDistribuição por ano:\", year_counts)"
   ]
  },
  {
   "cell_type": "code",
   "execution_count": 114,
   "metadata": {},
   "outputs": [],
   "source": [
    "df.to_csv(f'../datasets/dataset-case_study-tratado.csv', index=False)"
   ]
  }
 ],
 "metadata": {
  "kernelspec": {
   "display_name": "venv",
   "language": "python",
   "name": "python3"
  },
  "language_info": {
   "codemirror_mode": {
    "name": "ipython",
    "version": 3
   },
   "file_extension": ".py",
   "mimetype": "text/x-python",
   "name": "python",
   "nbconvert_exporter": "python",
   "pygments_lexer": "ipython3",
   "version": "3.11.9"
  }
 },
 "nbformat": 4,
 "nbformat_minor": 2
}
