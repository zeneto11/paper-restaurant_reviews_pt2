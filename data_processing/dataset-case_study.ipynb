{
 "cells": [
  {
   "cell_type": "code",
   "execution_count": 43,
   "metadata": {},
   "outputs": [],
   "source": [
    "import pandas as pd"
   ]
  },
  {
   "cell_type": "code",
   "execution_count": 44,
   "metadata": {},
   "outputs": [
    {
     "name": "stdout",
     "output_type": "stream",
     "text": [
      "(5933, 9)\n",
      "Index(['restaurante_name', 'user_name', 'review_date', 'stars', 'comment_text',\n",
      "       'year', 'platform', 'language', 'comment_text_translated'],\n",
      "      dtype='object')\n",
      "\n",
      "Distribuição por plataforma: platform\n",
      "Google             3917\n",
      "Facebook            847\n",
      "Foursquare          834\n",
      "Yelp                310\n",
      "Zomato               24\n",
      "Restaurant Guru       1\n",
      "Name: count, dtype: int64\n"
     ]
    }
   ],
   "source": [
    "# Carregar dataset\n",
    "df = pd.read_csv('../datasets/dataset-case_study.csv')\n",
    "\n",
    "# Informações sobre o conjunto de dados\n",
    "print(df.shape)\n",
    "print(df.columns)\n",
    "\n",
    "# Contar quantas linhas tem para cada plataforma\n",
    "platform_counts = df['platform'].value_counts()\n",
    "print(\"\\nDistribuição por plataforma:\", platform_counts)"
   ]
  },
  {
   "cell_type": "code",
   "execution_count": 45,
   "metadata": {},
   "outputs": [
    {
     "name": "stdout",
     "output_type": "stream",
     "text": [
      "\n",
      "Total de comentários duplicados: 581\n",
      "Removendo comentários duplicados...\n",
      "\n",
      "Dataset após limpeza:\n",
      "(4973, 9)\n"
     ]
    }
   ],
   "source": [
    "# Substituir espaços múltiplos por um único espaço e realizar strip\n",
    "df['comment_text_translated'] = df['comment_text_translated'].astype(str).apply(lambda x: ' '.join(x.split()))\n",
    "\n",
    "# Remover ocorrências de erros\n",
    "replacements = {\n",
    "    'Comida': 'comida',\n",
    "    'Serviço': 'serviço',\n",
    "    'Atmosfera': 'atmosfera',\n",
    "    'Food': 'food',\n",
    "    'Service': 'service',\n",
    "    'Atmosphere': 'atmosphere'\n",
    "}\n",
    "\n",
    "for uppercase, lowercase in replacements.items():\n",
    "    df['comment_text_translated'] = df['comment_text_translated'].str.replace(uppercase, lowercase, regex=False)\n",
    "\n",
    "replacements = [\n",
    "    'comida: 5', 'food: 5', 'comida: 4', 'food: 4', 'comida: 3', 'food: 3', 'comida: 2', 'food: 2', 'comida: 1', 'food: 1',\n",
    "    'serviço: 5', 'service: 5', 'serviço: 4', 'service: 4', 'serviço: 3', 'service: 3', 'serviço: 2', 'service: 2', 'serviço: 1', 'service: 1',\n",
    "    'atmosfera: 5', 'atmosphere: 5', 'atmosfera: 4', 'atmosphere: 4', 'atmosfera: 3', 'atmosphere: 3', 'atmosfera: 2', 'atmosphere: 2', 'atmosfera: 1', 'atmosphere: 1',\n",
    "]\n",
    "\n",
    "for r in replacements:\n",
    "    df['comment_text_translated'] = df['comment_text_translated'].str.replace(r, '')\n",
    "\n",
    "# Substituir espaços múltiplos por um único espaço e realizar strip\n",
    "df['comment_text_translated'] = df['comment_text_translated'].astype(str).apply(lambda x: ' '.join(x.split()))\n",
    "\n",
    "# Remover sentenças nulas\n",
    "def remove_empty_text_rows(df):\n",
    "    empty_sentenca_rows = df['comment_text_translated'].isnull() | (df['comment_text_translated'] == '')\n",
    "    df = df[~empty_sentenca_rows]\n",
    "    df.reset_index(drop=True, inplace=True)\n",
    "    return df\n",
    "df = remove_empty_text_rows(df)\n",
    "\n",
    "# Remover sentenças duplicadas\n",
    "comentarios_duplicados = df.duplicated(subset=\"comment_text_translated\").sum()\n",
    "print(\"\\nTotal de comentários duplicados:\", comentarios_duplicados)\n",
    "print('Removendo comentários duplicados...\\n')\n",
    "df = df.drop_duplicates(subset=\"comment_text_translated\", keep='first').reset_index(drop=True)\n",
    "\n",
    "# Informações sobre o conjunto de dados\n",
    "print('Dataset após limpeza:')\n",
    "print(df.shape)"
   ]
  },
  {
   "cell_type": "code",
   "execution_count": 46,
   "metadata": {},
   "outputs": [
    {
     "name": "stdout",
     "output_type": "stream",
     "text": [
      "\n",
      "Distribuição por plataforma: platform\n",
      "Google             3224\n",
      "Foursquare          731\n",
      "Facebook            710\n",
      "Yelp                285\n",
      "Zomato               22\n",
      "Restaurant Guru       1\n",
      "Name: count, dtype: int64\n"
     ]
    }
   ],
   "source": [
    "# Contar quantas linhas tem para cada plataforma\n",
    "platform_counts = df['platform'].value_counts()\n",
    "print(\"\\nDistribuição por plataforma:\", platform_counts)"
   ]
  },
  {
   "cell_type": "code",
   "execution_count": 47,
   "metadata": {},
   "outputs": [],
   "source": [
    "df.to_csv(f'../datasets/dataset-case_study-tratado.csv', index=False)"
   ]
  }
 ],
 "metadata": {
  "kernelspec": {
   "display_name": "venv",
   "language": "python",
   "name": "python3"
  },
  "language_info": {
   "codemirror_mode": {
    "name": "ipython",
    "version": 3
   },
   "file_extension": ".py",
   "mimetype": "text/x-python",
   "name": "python",
   "nbconvert_exporter": "python",
   "pygments_lexer": "ipython3",
   "version": "3.11.9"
  }
 },
 "nbformat": 4,
 "nbformat_minor": 2
}
