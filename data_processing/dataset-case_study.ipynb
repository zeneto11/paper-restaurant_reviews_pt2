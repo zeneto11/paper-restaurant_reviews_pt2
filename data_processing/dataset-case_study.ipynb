{
 "cells": [
  {
   "cell_type": "code",
   "execution_count": 81,
   "metadata": {},
   "outputs": [],
   "source": [
    "import pandas as pd"
   ]
  },
  {
   "cell_type": "markdown",
   "metadata": {},
   "source": [
    "### Carregar dataset"
   ]
  },
  {
   "cell_type": "code",
   "execution_count": 82,
   "metadata": {},
   "outputs": [
    {
     "name": "stdout",
     "output_type": "stream",
     "text": [
      "Dataset antes da limpeza:\n",
      "(5933, 9)\n",
      "Index(['restaurante_name', 'user_name', 'review_date', 'stars', 'comment_text',\n",
      "       'year', 'platform', 'language', 'comment_text_translated'],\n",
      "      dtype='object')\n",
      "\n",
      "Distribuição por plataforma: platform\n",
      "Google             3917\n",
      "Facebook            847\n",
      "Foursquare          834\n",
      "Yelp                310\n",
      "Zomato               24\n",
      "Restaurant Guru       1\n",
      "Name: count, dtype: int64\n"
     ]
    }
   ],
   "source": [
    "# Carregar dataset\n",
    "df = pd.read_csv('../datasets/dataset-case_study.csv')\n",
    "\n",
    "# Informações sobre o conjunto de dados\n",
    "print('Dataset antes da limpeza:')\n",
    "print(df.shape)\n",
    "print(df.columns)\n",
    "\n",
    "# Contar quantas linhas tem para cada plataforma\n",
    "platform_counts = df['platform'].value_counts()\n",
    "print(\"\\nDistribuição por plataforma:\", platform_counts)"
   ]
  },
  {
   "cell_type": "markdown",
   "metadata": {},
   "source": [
    "### Limpeza dos dados"
   ]
  },
  {
   "cell_type": "code",
   "execution_count": 83,
   "metadata": {},
   "outputs": [],
   "source": [
    "def remove_empty_text_rows(df):\n",
    "    empty_sentenca_rows = df['comment_text_translated'].isnull() | (df['comment_text_translated'] == '')\n",
    "    # Imprimir o número de sentenças vazias\n",
    "    num_empty_sentences = empty_sentenca_rows.sum()\n",
    "    print(f\"Total de comentários vazios: {num_empty_sentences}\")\n",
    "    print('Removendo comentários vazios...\\n')\n",
    "    # Remover sentenças vazias\n",
    "    df = df[~empty_sentenca_rows]\n",
    "    df.reset_index(drop=True, inplace=True)\n",
    "    return df"
   ]
  },
  {
   "cell_type": "code",
   "execution_count": 84,
   "metadata": {},
   "outputs": [
    {
     "name": "stdout",
     "output_type": "stream",
     "text": [
      "Total de comentários vazios: 379\n",
      "Removendo comentários vazios...\n",
      "\n",
      "Total de comentários duplicados: 583\n",
      "Removendo comentários duplicados...\n",
      "\n"
     ]
    }
   ],
   "source": [
    "# Substituir espaços múltiplos por um único espaço e realizar strip\n",
    "df['comment_text_translated'] = df['comment_text_translated'].astype(str).apply(lambda x: ' '.join(x.split()))\n",
    "\n",
    "# Remover ocorrências de erros\n",
    "replacements = {\n",
    "    'Comida': 'comida',\n",
    "    'Serviço': 'serviço',\n",
    "    'Atmosfera': 'atmosfera',\n",
    "    'Food': 'food',\n",
    "    'Service': 'service',\n",
    "    'Atmosphere': 'atmosphere'\n",
    "}\n",
    "\n",
    "for uppercase, lowercase in replacements.items():\n",
    "    df['comment_text_translated'] = df['comment_text_translated'].str.replace(uppercase, lowercase, regex=False)\n",
    "\n",
    "replacements = [\n",
    "    'comida: 5', 'food: 5', 'comida: 4', 'food: 4', 'comida: 3', 'food: 3', 'comida: 2', 'food: 2', 'comida: 1', 'food: 1',\n",
    "    'serviço: 5', 'service: 5', 'serviço: 4', 'service: 4', 'serviço: 3', 'service: 3', 'serviço: 2', 'service: 2', 'serviço: 1', 'service: 1',\n",
    "    'atmosfera: 5', 'atmosphere: 5', 'atmosfera: 4', 'atmosphere: 4', 'atmosfera: 3', 'atmosphere: 3', 'atmosfera: 2', 'atmosphere: 2', 'atmosfera: 1', 'atmosphere: 1',\n",
    "    ': 5', ': 4', ': 3', ': 2', ': 1'\n",
    "]\n",
    "\n",
    "for r in replacements:\n",
    "    df['comment_text_translated'] = df['comment_text_translated'].str.replace(r, '')\n",
    "\n",
    "# Substituir espaços múltiplos por um único espaço e realizar strip\n",
    "df['comment_text_translated'] = df['comment_text_translated'].astype(str).apply(lambda x: ' '.join(x.split()))\n",
    "\n",
    "# Remover sentenças nulas\n",
    "df = remove_empty_text_rows(df)\n",
    "\n",
    "# Remover sentenças duplicadas\n",
    "comentarios_duplicados = df.duplicated(subset=\"comment_text_translated\").sum()\n",
    "print(\"Total de comentários duplicados:\", comentarios_duplicados)\n",
    "print('Removendo comentários duplicados...\\n')\n",
    "df = df.drop_duplicates(subset=\"comment_text_translated\", keep='first').reset_index(drop=True)"
   ]
  },
  {
   "cell_type": "markdown",
   "metadata": {},
   "source": [
    "### Dataset Final"
   ]
  },
  {
   "cell_type": "code",
   "execution_count": 85,
   "metadata": {},
   "outputs": [
    {
     "name": "stdout",
     "output_type": "stream",
     "text": [
      "Dataset após limpeza:\n",
      "(4971, 9)\n",
      "\n",
      "Distribuição por plataforma: platform\n",
      "Google             3222\n",
      "Foursquare          731\n",
      "Facebook            710\n",
      "Yelp                285\n",
      "Zomato               22\n",
      "Restaurant Guru       1\n",
      "Name: count, dtype: int64\n"
     ]
    }
   ],
   "source": [
    "# Informações sobre o conjunto de dados\n",
    "print('Dataset após limpeza:')\n",
    "print(df.shape)\n",
    "\n",
    "# Contar quantas linhas tem para cada plataforma\n",
    "platform_counts = df['platform'].value_counts()\n",
    "print(\"\\nDistribuição por plataforma:\", platform_counts)"
   ]
  },
  {
   "cell_type": "code",
   "execution_count": 86,
   "metadata": {},
   "outputs": [],
   "source": [
    "df.to_csv(f'../datasets/dataset-case_study-tratado.csv', index=False)"
   ]
  }
 ],
 "metadata": {
  "kernelspec": {
   "display_name": "venv",
   "language": "python",
   "name": "python3"
  },
  "language_info": {
   "codemirror_mode": {
    "name": "ipython",
    "version": 3
   },
   "file_extension": ".py",
   "mimetype": "text/x-python",
   "name": "python",
   "nbconvert_exporter": "python",
   "pygments_lexer": "ipython3",
   "version": "3.11.9"
  }
 },
 "nbformat": 4,
 "nbformat_minor": 2
}
